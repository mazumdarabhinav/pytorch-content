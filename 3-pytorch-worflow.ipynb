{
 "cells": [
  {
   "cell_type": "markdown",
   "id": "2b745de1",
   "metadata": {
    "_cell_guid": "b1076dfc-b9ad-4769-8c92-a6c4dae69d19",
    "_uuid": "8f2839f25d086af736a60e9eeb907d3b93b6e0e5",
    "papermill": {
     "duration": 0.009713,
     "end_time": "2022-09-13T11:30:16.112228",
     "exception": false,
     "start_time": "2022-09-13T11:30:16.102515",
     "status": "completed"
    },
    "tags": []
   },
   "source": [
    "# Pytorch Workflow"
   ]
  },
  {
   "cell_type": "markdown",
   "id": "12231923",
   "metadata": {
    "papermill": {
     "duration": 0.007394,
     "end_time": "2022-09-13T11:30:16.127667",
     "exception": false,
     "start_time": "2022-09-13T11:30:16.120273",
     "status": "completed"
    },
    "tags": []
   },
   "source": [
    "### An end-to-end pytorch worflow"
   ]
  },
  {
   "cell_type": "code",
   "execution_count": 1,
   "id": "8f9342f6",
   "metadata": {
    "execution": {
     "iopub.execute_input": "2022-09-13T11:30:16.146673Z",
     "iopub.status.busy": "2022-09-13T11:30:16.145914Z",
     "iopub.status.idle": "2022-09-13T11:30:16.162107Z",
     "shell.execute_reply": "2022-09-13T11:30:16.160915Z"
    },
    "papermill": {
     "duration": 0.029137,
     "end_time": "2022-09-13T11:30:16.165128",
     "exception": false,
     "start_time": "2022-09-13T11:30:16.135991",
     "status": "completed"
    },
    "tags": []
   },
   "outputs": [],
   "source": [
    "what_were_covering = {1: \"data (prepare and load)\",\n",
    "    2: \"build model\",\n",
    "    3: \"fitting the model to data (training)\",\n",
    "    4: \"making predictions and evaluating a model (inference)\",\n",
    "    5: \"saving and loading a model\",\n",
    "    6: \"putting it all together\"\n",
    "}"
   ]
  },
  {
   "cell_type": "code",
   "execution_count": 2,
   "id": "39629174",
   "metadata": {
    "execution": {
     "iopub.execute_input": "2022-09-13T11:30:16.183421Z",
     "iopub.status.busy": "2022-09-13T11:30:16.182291Z",
     "iopub.status.idle": "2022-09-13T11:30:18.265564Z",
     "shell.execute_reply": "2022-09-13T11:30:18.264302Z"
    },
    "papermill": {
     "duration": 2.095744,
     "end_time": "2022-09-13T11:30:18.268768",
     "exception": false,
     "start_time": "2022-09-13T11:30:16.173024",
     "status": "completed"
    },
    "tags": []
   },
   "outputs": [
    {
     "data": {
      "text/plain": [
       "'1.11.0+cpu'"
      ]
     },
     "execution_count": 2,
     "metadata": {},
     "output_type": "execute_result"
    }
   ],
   "source": [
    "import torch\n",
    "from torch import nn ## nn contains all of pytorchs's building blocks for neural networks\n",
    "import matplotlib.pyplot as plt\n",
    "\n",
    "# check pytorch version\n",
    "torch.__version__"
   ]
  },
  {
   "cell_type": "markdown",
   "id": "75e95b72",
   "metadata": {
    "papermill": {
     "duration": 0.007314,
     "end_time": "2022-09-13T11:30:18.283862",
     "exception": false,
     "start_time": "2022-09-13T11:30:18.276548",
     "status": "completed"
    },
    "tags": []
   },
   "source": [
    "## 1. Data Preparing and Loading"
   ]
  },
  {
   "cell_type": "markdown",
   "id": "161e7010",
   "metadata": {
    "papermill": {
     "duration": 0.007254,
     "end_time": "2022-09-13T11:30:18.298670",
     "exception": false,
     "start_time": "2022-09-13T11:30:18.291416",
     "status": "completed"
    },
    "tags": []
   },
   "source": [
    "### Let's create some *know* data using linear regression formula. We'll use a linear regression formula to make a straight line with *know* **parameters**"
   ]
  },
  {
   "cell_type": "code",
   "execution_count": 3,
   "id": "9562082c",
   "metadata": {
    "execution": {
     "iopub.execute_input": "2022-09-13T11:30:18.316084Z",
     "iopub.status.busy": "2022-09-13T11:30:18.315414Z",
     "iopub.status.idle": "2022-09-13T11:30:18.328136Z",
     "shell.execute_reply": "2022-09-13T11:30:18.327143Z"
    },
    "papermill": {
     "duration": 0.024645,
     "end_time": "2022-09-13T11:30:18.330843",
     "exception": false,
     "start_time": "2022-09-13T11:30:18.306198",
     "status": "completed"
    },
    "tags": []
   },
   "outputs": [],
   "source": [
    "### Create *know* parameters\n",
    "weight = 0.7\n",
    "bias = 0.3\n",
    "\n",
    "# create\n",
    "start = 0\n",
    "end = 1\n",
    "step =0.02\n",
    "X = torch.arange(start,end, step).unsqueeze(dim=1)\n",
    "y = weight * X + bias"
   ]
  },
  {
   "cell_type": "code",
   "execution_count": 4,
   "id": "fe842ef0",
   "metadata": {
    "execution": {
     "iopub.execute_input": "2022-09-13T11:30:18.348690Z",
     "iopub.status.busy": "2022-09-13T11:30:18.347742Z",
     "iopub.status.idle": "2022-09-13T11:30:18.357831Z",
     "shell.execute_reply": "2022-09-13T11:30:18.356636Z"
    },
    "papermill": {
     "duration": 0.021808,
     "end_time": "2022-09-13T11:30:18.360232",
     "exception": false,
     "start_time": "2022-09-13T11:30:18.338424",
     "status": "completed"
    },
    "tags": []
   },
   "outputs": [
    {
     "data": {
      "text/plain": [
       "(tensor([[0.0000],\n",
       "         [0.0200],\n",
       "         [0.0400],\n",
       "         [0.0600],\n",
       "         [0.0800],\n",
       "         [0.1000],\n",
       "         [0.1200],\n",
       "         [0.1400],\n",
       "         [0.1600],\n",
       "         [0.1800]]),\n",
       " tensor([[0.3000],\n",
       "         [0.3140],\n",
       "         [0.3280],\n",
       "         [0.3420],\n",
       "         [0.3560],\n",
       "         [0.3700],\n",
       "         [0.3840],\n",
       "         [0.3980],\n",
       "         [0.4120],\n",
       "         [0.4260]]),\n",
       " torch.Size([50, 1]),\n",
       " torch.Size([50, 1]))"
      ]
     },
     "execution_count": 4,
     "metadata": {},
     "output_type": "execute_result"
    }
   ],
   "source": [
    "X[:10], y[:10], X.shape, y.shape"
   ]
  },
  {
   "cell_type": "markdown",
   "id": "e5dcc3cd",
   "metadata": {
    "papermill": {
     "duration": 0.007221,
     "end_time": "2022-09-13T11:30:18.375056",
     "exception": false,
     "start_time": "2022-09-13T11:30:18.367835",
     "status": "completed"
    },
    "tags": []
   },
   "source": [
    "### Splitting data into training and test set"
   ]
  },
  {
   "cell_type": "code",
   "execution_count": 5,
   "id": "7924dacd",
   "metadata": {
    "execution": {
     "iopub.execute_input": "2022-09-13T11:30:18.393756Z",
     "iopub.status.busy": "2022-09-13T11:30:18.392865Z",
     "iopub.status.idle": "2022-09-13T11:30:18.400452Z",
     "shell.execute_reply": "2022-09-13T11:30:18.399483Z"
    },
    "papermill": {
     "duration": 0.019238,
     "end_time": "2022-09-13T11:30:18.402851",
     "exception": false,
     "start_time": "2022-09-13T11:30:18.383613",
     "status": "completed"
    },
    "tags": []
   },
   "outputs": [
    {
     "data": {
      "text/plain": [
       "(50, 50)"
      ]
     },
     "execution_count": 5,
     "metadata": {},
     "output_type": "execute_result"
    }
   ],
   "source": [
    "len(X), len(y)"
   ]
  },
  {
   "cell_type": "code",
   "execution_count": 6,
   "id": "4268e4da",
   "metadata": {
    "execution": {
     "iopub.execute_input": "2022-09-13T11:30:18.420936Z",
     "iopub.status.busy": "2022-09-13T11:30:18.420088Z",
     "iopub.status.idle": "2022-09-13T11:30:18.427904Z",
     "shell.execute_reply": "2022-09-13T11:30:18.426722Z"
    },
    "papermill": {
     "duration": 0.019942,
     "end_time": "2022-09-13T11:30:18.430486",
     "exception": false,
     "start_time": "2022-09-13T11:30:18.410544",
     "status": "completed"
    },
    "tags": []
   },
   "outputs": [
    {
     "data": {
      "text/plain": [
       "40"
      ]
     },
     "execution_count": 6,
     "metadata": {},
     "output_type": "execute_result"
    }
   ],
   "source": [
    "# create a train-test split\n",
    "train_split = int(0.8 * len(X))\n",
    "train_split"
   ]
  },
  {
   "cell_type": "code",
   "execution_count": 7,
   "id": "50e8272d",
   "metadata": {
    "execution": {
     "iopub.execute_input": "2022-09-13T11:30:18.448846Z",
     "iopub.status.busy": "2022-09-13T11:30:18.447955Z",
     "iopub.status.idle": "2022-09-13T11:30:18.454016Z",
     "shell.execute_reply": "2022-09-13T11:30:18.453032Z"
    },
    "papermill": {
     "duration": 0.017958,
     "end_time": "2022-09-13T11:30:18.456344",
     "exception": false,
     "start_time": "2022-09-13T11:30:18.438386",
     "status": "completed"
    },
    "tags": []
   },
   "outputs": [],
   "source": [
    "X_train, y_train = X[:train_split], y[:train_split]\n",
    "X_test, y_test = X[train_split:], y[train_split:]"
   ]
  },
  {
   "cell_type": "code",
   "execution_count": 8,
   "id": "303fd910",
   "metadata": {
    "execution": {
     "iopub.execute_input": "2022-09-13T11:30:18.474952Z",
     "iopub.status.busy": "2022-09-13T11:30:18.474036Z",
     "iopub.status.idle": "2022-09-13T11:30:18.481975Z",
     "shell.execute_reply": "2022-09-13T11:30:18.480795Z"
    },
    "papermill": {
     "duration": 0.019996,
     "end_time": "2022-09-13T11:30:18.484387",
     "exception": false,
     "start_time": "2022-09-13T11:30:18.464391",
     "status": "completed"
    },
    "tags": []
   },
   "outputs": [
    {
     "data": {
      "text/plain": [
       "(40, 10)"
      ]
     },
     "execution_count": 8,
     "metadata": {},
     "output_type": "execute_result"
    }
   ],
   "source": [
    "len(X_train), len(X_test)"
   ]
  },
  {
   "cell_type": "markdown",
   "id": "d4e878ee",
   "metadata": {
    "papermill": {
     "duration": 0.007687,
     "end_time": "2022-09-13T11:30:18.500118",
     "exception": false,
     "start_time": "2022-09-13T11:30:18.492431",
     "status": "completed"
    },
    "tags": []
   },
   "source": [
    "## Plot predictions"
   ]
  },
  {
   "cell_type": "code",
   "execution_count": 9,
   "id": "7acceffe",
   "metadata": {
    "execution": {
     "iopub.execute_input": "2022-09-13T11:30:18.518855Z",
     "iopub.status.busy": "2022-09-13T11:30:18.517961Z",
     "iopub.status.idle": "2022-09-13T11:30:18.527107Z",
     "shell.execute_reply": "2022-09-13T11:30:18.525998Z"
    },
    "papermill": {
     "duration": 0.021784,
     "end_time": "2022-09-13T11:30:18.529895",
     "exception": false,
     "start_time": "2022-09-13T11:30:18.508111",
     "status": "completed"
    },
    "tags": []
   },
   "outputs": [],
   "source": [
    "def plot_predictions(train_data=X_train,\n",
    "                     train_labels=y_train,\n",
    "                     test_data=X_test,\n",
    "                     test_lables=y_test,\n",
    "                     predictions=None):\n",
    "    \"\"\"\n",
    "    Plots training data, test data and compare predictions\n",
    "    \"\"\"\n",
    "    plt.figure(figsize=(10,7))\n",
    "    \n",
    "    # plot training data\n",
    "    plt.scatter(train_data, train_labels, c=\"b\", s=4, label=\"Training Data\")\n",
    "    \n",
    "    # plot testing data\n",
    "    plt.scatter(test_data, test_lables, c=\"g\", s=4, label=\"Testing Data\")\n",
    "    \n",
    "    # are there predictions?\n",
    "    if predictions is not None:\n",
    "        # plot the predictions if they exists\n",
    "        plt.scatter(test_data, predictions, c=\"r\", s=4, label=\"Predictions\")\n",
    "        \n",
    "    # show legends\n",
    "    plt.legend(prop={\"size\": 14})"
   ]
  },
  {
   "cell_type": "code",
   "execution_count": 10,
   "id": "0893ff26",
   "metadata": {
    "execution": {
     "iopub.execute_input": "2022-09-13T11:30:18.548570Z",
     "iopub.status.busy": "2022-09-13T11:30:18.547679Z",
     "iopub.status.idle": "2022-09-13T11:30:18.858872Z",
     "shell.execute_reply": "2022-09-13T11:30:18.857576Z"
    },
    "papermill": {
     "duration": 0.324781,
     "end_time": "2022-09-13T11:30:18.862867",
     "exception": false,
     "start_time": "2022-09-13T11:30:18.538086",
     "status": "completed"
    },
    "tags": []
   },
   "outputs": [
    {
     "data": {
      "image/png": "[encoded data removed]",
      "text/plain": [
       "<Figure size 720x504 with 1 Axes>"
      ]
     },
     "metadata": {
      "needs_background": "light"
     },
     "output_type": "display_data"
    }
   ],
   "source": [
    "plot_predictions()"
   ]
  },
  {
   "cell_type": "markdown",
   "id": "a60779fc",
   "metadata": {
    "papermill": {
     "duration": 0.008319,
     "end_time": "2022-09-13T11:30:18.880688",
     "exception": false,
     "start_time": "2022-09-13T11:30:18.872369",
     "status": "completed"
    },
    "tags": []
   },
   "source": [
    "# Build Model\n",
    "\n",
    "Our first pytorch model - Linear Regression"
   ]
  },
  {
   "cell_type": "markdown",
   "id": "923195fc",
   "metadata": {
    "papermill": {
     "duration": 0.008172,
     "end_time": "2022-09-13T11:30:18.897342",
     "exception": false,
     "start_time": "2022-09-13T11:30:18.889170",
     "status": "completed"
    },
    "tags": []
   },
   "source": [
    "### Linear regression Model class"
   ]
  },
  {
   "cell_type": "code",
   "execution_count": 11,
   "id": "a448de15",
   "metadata": {
    "execution": {
     "iopub.execute_input": "2022-09-13T11:30:18.918685Z",
     "iopub.status.busy": "2022-09-13T11:30:18.917795Z",
     "iopub.status.idle": "2022-09-13T11:30:18.925268Z",
     "shell.execute_reply": "2022-09-13T11:30:18.924253Z"
    },
    "papermill": {
     "duration": 0.022088,
     "end_time": "2022-09-13T11:30:18.928102",
     "exception": false,
     "start_time": "2022-09-13T11:30:18.906014",
     "status": "completed"
    },
    "tags": []
   },
   "outputs": [],
   "source": [
    "class LinearRegressionModel(nn.Module): # almost everything in Pytorch inherits from nn.Module\n",
    "    \n",
    "    def __init__(self):\n",
    "        super().__init__()\n",
    "        self.weight = nn.Parameter(torch.randn(1, requires_grad=True, dtype=torch.float))\n",
    "        self.bias = nn.Parameter(torch.randn(1, requires_grad=True, dtype=torch.float))\n",
    "        \n",
    "    # forward method to define the computation in the model\n",
    "    def forward(self, x: torch.Tensor) -> torch.Tensor: # \"x\"is a input data\n",
    "        return self.weight * x + self.bias # this is the linear regression formula"
   ]
  },
  {
   "cell_type": "markdown",
   "id": "bde6d8e7",
   "metadata": {
    "papermill": {
     "duration": 0.008114,
     "end_time": "2022-09-13T11:30:18.944932",
     "exception": false,
     "start_time": "2022-09-13T11:30:18.936818",
     "status": "completed"
    },
    "tags": []
   },
   "source": [
    "### Pytorch model building essentials\n",
    "\n",
    "* torch.nn - contains all the building blocks for computational graphs ( a Neural Network can be consideted as computational graphs)\n",
    "* torch.nn.Parameter - what parameters should our model try and learn - Often a pytorch layer from torch.nn will try and set this for us\n",
    "* torch.nn.Module - The base class for all neural network modules , if you subclass this, you should override the *forward* method\n",
    "* torch.optim - This is where where the optimizers in Pytorch live, will help with gradient descent\n",
    "* def forward() - All nn.Module subclassses require you to overwrite forward(), this methods defines what happens in forward computation"
   ]
  },
  {
   "cell_type": "markdown",
   "id": "e05f5007",
   "metadata": {
    "papermill": {
     "duration": 0.008052,
     "end_time": "2022-09-13T11:30:18.961592",
     "exception": false,
     "start_time": "2022-09-13T11:30:18.953540",
     "status": "completed"
    },
    "tags": []
   },
   "source": [
    "### Checking the contents of our pytorch model\n",
    "\n",
    "Now that we have created our model, let's check what is inside this model\n",
    "\n",
    "Checkout model paarmerets using .parameters()"
   ]
  },
  {
   "cell_type": "code",
   "execution_count": 12,
   "id": "01237d47",
   "metadata": {
    "execution": {
     "iopub.execute_input": "2022-09-13T11:30:18.981139Z",
     "iopub.status.busy": "2022-09-13T11:30:18.980216Z",
     "iopub.status.idle": "2022-09-13T11:30:18.996524Z",
     "shell.execute_reply": "2022-09-13T11:30:18.995357Z"
    },
    "papermill": {
     "duration": 0.029124,
     "end_time": "2022-09-13T11:30:18.999190",
     "exception": false,
     "start_time": "2022-09-13T11:30:18.970066",
     "status": "completed"
    },
    "tags": []
   },
   "outputs": [
    {
     "data": {
      "text/plain": [
       "[Parameter containing:\n",
       " tensor([0.3367], requires_grad=True),\n",
       " Parameter containing:\n",
       " tensor([0.1288], requires_grad=True)]"
      ]
     },
     "execution_count": 12,
     "metadata": {},
     "output_type": "execute_result"
    }
   ],
   "source": [
    "# create a random seed\n",
    "torch.manual_seed(42)\n",
    "\n",
    "# create an instance of our model\n",
    "model_0 = LinearRegressionModel()\n",
    "\n",
    "# checkout the paarmeters\n",
    "list(model_0.parameters())"
   ]
  },
  {
   "cell_type": "code",
   "execution_count": 13,
   "id": "211e5b9a",
   "metadata": {
    "execution": {
     "iopub.execute_input": "2022-09-13T11:30:19.019410Z",
     "iopub.status.busy": "2022-09-13T11:30:19.017919Z",
     "iopub.status.idle": "2022-09-13T11:30:19.027837Z",
     "shell.execute_reply": "2022-09-13T11:30:19.026629Z"
    },
    "papermill": {
     "duration": 0.022627,
     "end_time": "2022-09-13T11:30:19.030425",
     "exception": false,
     "start_time": "2022-09-13T11:30:19.007798",
     "status": "completed"
    },
    "tags": []
   },
   "outputs": [
    {
     "data": {
      "text/plain": [
       "OrderedDict([('weight', tensor([0.3367])), ('bias', tensor([0.1288]))])"
      ]
     },
     "execution_count": 13,
     "metadata": {},
     "output_type": "execute_result"
    }
   ],
   "source": [
    "# List of named paarmeters\n",
    "model_0.state_dict()"
   ]
  },
  {
   "cell_type": "markdown",
   "id": "f99da18f",
   "metadata": {
    "papermill": {
     "duration": 0.008286,
     "end_time": "2022-09-13T11:30:19.048244",
     "exception": false,
     "start_time": "2022-09-13T11:30:19.039958",
     "status": "completed"
    },
    "tags": []
   },
   "source": [
    "### Making predictions using the torch.inference_mode()\n",
    "\n",
    "To check our model's pedictive power, let's see how well its predicts 'y_test' based on 'X_test'\n",
    "\n",
    "When we pass our data through our model, its is going to run it through the 'forward()' method"
   ]
  },
  {
   "cell_type": "code",
   "execution_count": 14,
   "id": "a92b289f",
   "metadata": {
    "execution": {
     "iopub.execute_input": "2022-09-13T11:30:19.067850Z",
     "iopub.status.busy": "2022-09-13T11:30:19.067328Z",
     "iopub.status.idle": "2022-09-13T11:30:19.078461Z",
     "shell.execute_reply": "2022-09-13T11:30:19.077244Z"
    },
    "papermill": {
     "duration": 0.024156,
     "end_time": "2022-09-13T11:30:19.081197",
     "exception": false,
     "start_time": "2022-09-13T11:30:19.057041",
     "status": "completed"
    },
    "tags": []
   },
   "outputs": [
    {
     "data": {
      "text/plain": [
       "tensor([[0.3982],\n",
       "        [0.4049],\n",
       "        [0.4116],\n",
       "        [0.4184],\n",
       "        [0.4251],\n",
       "        [0.4318],\n",
       "        [0.4386],\n",
       "        [0.4453],\n",
       "        [0.4520],\n",
       "        [0.4588]])"
      ]
     },
     "execution_count": 14,
     "metadata": {},
     "output_type": "execute_result"
    }
   ],
   "source": [
    "# make predictions with model\n",
    "\n",
    "with torch.inference_mode():\n",
    "    y_preds = model_0(X_test)\n",
    "    \n",
    "# you can do something similar using torch.no_gard() but inference_mode is prefered\n",
    "# with torch.no_grad():\n",
    "#     y_pred = model_0(X_test)\n",
    "y_preds"
   ]
  },
  {
   "cell_type": "code",
   "execution_count": 15,
   "id": "43d34735",
   "metadata": {
    "execution": {
     "iopub.execute_input": "2022-09-13T11:30:19.100962Z",
     "iopub.status.busy": "2022-09-13T11:30:19.100450Z",
     "iopub.status.idle": "2022-09-13T11:30:19.385130Z",
     "shell.execute_reply": "2022-09-13T11:30:19.383622Z"
    },
    "papermill": {
     "duration": 0.298249,
     "end_time": "2022-09-13T11:30:19.388328",
     "exception": false,
     "start_time": "2022-09-13T11:30:19.090079",
     "status": "completed"
    },
    "tags": []
   },
   "outputs": [
    {
     "data": {
      "image/png": "[encoded data removed]",
      "text/plain": [
       "<Figure size 720x504 with 1 Axes>"
      ]
     },
     "metadata": {
      "needs_background": "light"
     },
     "output_type": "display_data"
    }
   ],
   "source": [
    "plot_predictions(predictions=y_preds)"
   ]
  },
  {
   "cell_type": "markdown",
   "id": "65f2bbf3",
   "metadata": {
    "papermill": {
     "duration": 0.008826,
     "end_time": "2022-09-13T11:30:19.406488",
     "exception": false,
     "start_time": "2022-09-13T11:30:19.397662",
     "status": "completed"
    },
    "tags": []
   },
   "source": [
    "## Training Model"
   ]
  },
  {
   "cell_type": "markdown",
   "id": "dc56343f",
   "metadata": {
    "papermill": {
     "duration": 0.008812,
     "end_time": "2022-09-13T11:30:19.424536",
     "exception": false,
     "start_time": "2022-09-13T11:30:19.415724",
     "status": "completed"
    },
    "tags": []
   },
   "source": [
    "## Things we need to train model:\n",
    "\n",
    "* loss function\n",
    "* optimizer\n",
    "* training loop\n",
    "* testing loop"
   ]
  },
  {
   "cell_type": "markdown",
   "id": "0d4d2574",
   "metadata": {
    "papermill": {
     "duration": 0.008886,
     "end_time": "2022-09-13T11:30:19.442800",
     "exception": false,
     "start_time": "2022-09-13T11:30:19.433914",
     "status": "completed"
    },
    "tags": []
   },
   "source": [
    "### Loss Function: A way to measure how wrong your model predictions are. Lower are better\n",
    "\n",
    "### Optimizer: Takes into account the loss of a model and adjusts the model's parameters to improve the loss function"
   ]
  },
  {
   "cell_type": "code",
   "execution_count": 16,
   "id": "b5805082",
   "metadata": {
    "execution": {
     "iopub.execute_input": "2022-09-13T11:30:19.463392Z",
     "iopub.status.busy": "2022-09-13T11:30:19.462624Z",
     "iopub.status.idle": "2022-09-13T11:30:19.469506Z",
     "shell.execute_reply": "2022-09-13T11:30:19.468223Z"
    },
    "papermill": {
     "duration": 0.01988,
     "end_time": "2022-09-13T11:30:19.471851",
     "exception": false,
     "start_time": "2022-09-13T11:30:19.451971",
     "status": "completed"
    },
    "tags": []
   },
   "outputs": [],
   "source": [
    "## Setup a loss function\n",
    "## Mean Absolute Error ( MAE or L1 Loss)\n",
    "\n",
    "loss_fn = nn.L1Loss()\n",
    "\n",
    "## Set up a optimizer ( Stochastic Gradient Descent)\n",
    "optimizer = torch.optim.SGD(params=model_0.parameters(), \n",
    "                            lr=0.01)"
   ]
  },
  {
   "cell_type": "markdown",
   "id": "9ae29a14",
   "metadata": {
    "papermill": {
     "duration": 0.008741,
     "end_time": "2022-09-13T11:30:19.489939",
     "exception": false,
     "start_time": "2022-09-13T11:30:19.481198",
     "status": "completed"
    },
    "tags": []
   },
   "source": [
    "## Building a Training and Testing Loop\n",
    "\n",
    "Things we need a training loop\n",
    "\n",
    "1. Loop through the data\n",
    "2. Forward pass ( this involves data moving through model's forward()) - forward propogation - to make predictions\n",
    "3. Calculate the loss ( compare the forward pass predictions to ground truth)\n",
    "4. Optimizer zero grad\n",
    "5. Loss backward - moves backward through the network to calculate the gardients of each of the parameters of our model with respect to loss function - back propagation\n",
    "6. Optimizer step - use the optimizer to adjust the model parameters to try and improve the loss"
   ]
  },
  {
   "cell_type": "code",
   "execution_count": 17,
   "id": "85c8ea0f",
   "metadata": {
    "execution": {
     "iopub.execute_input": "2022-09-13T11:30:19.511066Z",
     "iopub.status.busy": "2022-09-13T11:30:19.509845Z",
     "iopub.status.idle": "2022-09-13T11:30:19.597365Z",
     "shell.execute_reply": "2022-09-13T11:30:19.595960Z"
    },
    "papermill": {
     "duration": 0.102122,
     "end_time": "2022-09-13T11:30:19.601196",
     "exception": false,
     "start_time": "2022-09-13T11:30:19.499074",
     "status": "completed"
    },
    "tags": []
   },
   "outputs": [
    {
     "name": "stdout",
     "output_type": "stream",
     "text": [
      "tensor(0.3129, grad_fn=<L1LossBackward0>)\n",
      "Epoch:0 | Loss:0.31288138031959534 | Test Loss:0.48106518387794495\n",
      "OrderedDict([('weight', tensor([0.3406])), ('bias', tensor([0.1388]))])\n",
      "tensor(0.3014, grad_fn=<L1LossBackward0>)\n",
      "tensor(0.2898, grad_fn=<L1LossBackward0>)\n",
      "tensor(0.2783, grad_fn=<L1LossBackward0>)\n",
      "tensor(0.2668, grad_fn=<L1LossBackward0>)\n",
      "tensor(0.2553, grad_fn=<L1LossBackward0>)\n",
      "tensor(0.2438, grad_fn=<L1LossBackward0>)\n",
      "tensor(0.2322, grad_fn=<L1LossBackward0>)\n",
      "tensor(0.2207, grad_fn=<L1LossBackward0>)\n",
      "tensor(0.2092, grad_fn=<L1LossBackward0>)\n",
      "tensor(0.1977, grad_fn=<L1LossBackward0>)\n",
      "Epoch:10 | Loss:0.1976713240146637 | Test Loss:0.3463551998138428\n",
      "OrderedDict([('weight', tensor([0.3796])), ('bias', tensor([0.2388]))])\n",
      "tensor(0.1862, grad_fn=<L1LossBackward0>)\n",
      "tensor(0.1746, grad_fn=<L1LossBackward0>)\n",
      "tensor(0.1631, grad_fn=<L1LossBackward0>)\n",
      "tensor(0.1516, grad_fn=<L1LossBackward0>)\n",
      "tensor(0.1401, grad_fn=<L1LossBackward0>)\n",
      "tensor(0.1285, grad_fn=<L1LossBackward0>)\n",
      "tensor(0.1170, grad_fn=<L1LossBackward0>)\n",
      "tensor(0.1061, grad_fn=<L1LossBackward0>)\n",
      "tensor(0.0968, grad_fn=<L1LossBackward0>)\n",
      "tensor(0.0891, grad_fn=<L1LossBackward0>)\n",
      "Epoch:20 | Loss:0.08908725529909134 | Test Loss:0.21729660034179688\n",
      "OrderedDict([('weight', tensor([0.4184])), ('bias', tensor([0.3333]))])\n",
      "tensor(0.0823, grad_fn=<L1LossBackward0>)\n",
      "tensor(0.0764, grad_fn=<L1LossBackward0>)\n",
      "tensor(0.0716, grad_fn=<L1LossBackward0>)\n",
      "tensor(0.0675, grad_fn=<L1LossBackward0>)\n",
      "tensor(0.0640, grad_fn=<L1LossBackward0>)\n",
      "tensor(0.0610, grad_fn=<L1LossBackward0>)\n",
      "tensor(0.0585, grad_fn=<L1LossBackward0>)\n",
      "tensor(0.0564, grad_fn=<L1LossBackward0>)\n",
      "tensor(0.0546, grad_fn=<L1LossBackward0>)\n",
      "tensor(0.0531, grad_fn=<L1LossBackward0>)\n",
      "Epoch:30 | Loss:0.053148526698350906 | Test Loss:0.14464017748832703\n",
      "OrderedDict([('weight', tensor([0.4512])), ('bias', tensor([0.3768]))])\n",
      "tensor(0.0518, grad_fn=<L1LossBackward0>)\n",
      "tensor(0.0507, grad_fn=<L1LossBackward0>)\n",
      "tensor(0.0498, grad_fn=<L1LossBackward0>)\n",
      "tensor(0.0490, grad_fn=<L1LossBackward0>)\n",
      "tensor(0.0482, grad_fn=<L1LossBackward0>)\n",
      "tensor(0.0475, grad_fn=<L1LossBackward0>)\n",
      "tensor(0.0469, grad_fn=<L1LossBackward0>)\n",
      "tensor(0.0464, grad_fn=<L1LossBackward0>)\n",
      "tensor(0.0459, grad_fn=<L1LossBackward0>)\n",
      "tensor(0.0454, grad_fn=<L1LossBackward0>)\n",
      "Epoch:40 | Loss:0.04543796554207802 | Test Loss:0.11360953003168106\n",
      "OrderedDict([('weight', tensor([0.4748])), ('bias', tensor([0.3868]))])\n",
      "tensor(0.0450, grad_fn=<L1LossBackward0>)\n",
      "tensor(0.0446, grad_fn=<L1LossBackward0>)\n",
      "tensor(0.0442, grad_fn=<L1LossBackward0>)\n",
      "tensor(0.0438, grad_fn=<L1LossBackward0>)\n",
      "tensor(0.0434, grad_fn=<L1LossBackward0>)\n",
      "tensor(0.0431, grad_fn=<L1LossBackward0>)\n",
      "tensor(0.0427, grad_fn=<L1LossBackward0>)\n",
      "tensor(0.0424, grad_fn=<L1LossBackward0>)\n",
      "tensor(0.0420, grad_fn=<L1LossBackward0>)\n",
      "tensor(0.0417, grad_fn=<L1LossBackward0>)\n",
      "Epoch:50 | Loss:0.04167863354086876 | Test Loss:0.09919948130846024\n",
      "OrderedDict([('weight', tensor([0.4938])), ('bias', tensor([0.3843]))])\n",
      "tensor(0.0413, grad_fn=<L1LossBackward0>)\n",
      "tensor(0.0410, grad_fn=<L1LossBackward0>)\n",
      "tensor(0.0406, grad_fn=<L1LossBackward0>)\n",
      "tensor(0.0403, grad_fn=<L1LossBackward0>)\n",
      "tensor(0.0399, grad_fn=<L1LossBackward0>)\n",
      "tensor(0.0396, grad_fn=<L1LossBackward0>)\n",
      "tensor(0.0392, grad_fn=<L1LossBackward0>)\n",
      "tensor(0.0389, grad_fn=<L1LossBackward0>)\n",
      "tensor(0.0385, grad_fn=<L1LossBackward0>)\n",
      "tensor(0.0382, grad_fn=<L1LossBackward0>)\n",
      "Epoch:60 | Loss:0.03818932920694351 | Test Loss:0.08886633068323135\n",
      "OrderedDict([('weight', tensor([0.5116])), ('bias', tensor([0.3788]))])\n",
      "tensor(0.0379, grad_fn=<L1LossBackward0>)\n",
      "tensor(0.0375, grad_fn=<L1LossBackward0>)\n",
      "tensor(0.0372, grad_fn=<L1LossBackward0>)\n",
      "tensor(0.0368, grad_fn=<L1LossBackward0>)\n",
      "tensor(0.0365, grad_fn=<L1LossBackward0>)\n",
      "tensor(0.0361, grad_fn=<L1LossBackward0>)\n",
      "tensor(0.0358, grad_fn=<L1LossBackward0>)\n",
      "tensor(0.0354, grad_fn=<L1LossBackward0>)\n",
      "tensor(0.0351, grad_fn=<L1LossBackward0>)\n",
      "tensor(0.0348, grad_fn=<L1LossBackward0>)\n",
      "Epoch:70 | Loss:0.03476089984178543 | Test Loss:0.0805937647819519\n",
      "OrderedDict([('weight', tensor([0.5288])), ('bias', tensor([0.3718]))])\n",
      "tensor(0.0344, grad_fn=<L1LossBackward0>)\n",
      "tensor(0.0341, grad_fn=<L1LossBackward0>)\n",
      "tensor(0.0337, grad_fn=<L1LossBackward0>)\n",
      "tensor(0.0334, grad_fn=<L1LossBackward0>)\n",
      "tensor(0.0330, grad_fn=<L1LossBackward0>)\n",
      "tensor(0.0327, grad_fn=<L1LossBackward0>)\n",
      "tensor(0.0324, grad_fn=<L1LossBackward0>)\n",
      "tensor(0.0320, grad_fn=<L1LossBackward0>)\n",
      "tensor(0.0317, grad_fn=<L1LossBackward0>)\n",
      "tensor(0.0313, grad_fn=<L1LossBackward0>)\n",
      "Epoch:80 | Loss:0.03132382780313492 | Test Loss:0.07232122868299484\n",
      "OrderedDict([('weight', tensor([0.5459])), ('bias', tensor([0.3648]))])\n",
      "tensor(0.0310, grad_fn=<L1LossBackward0>)\n",
      "tensor(0.0306, grad_fn=<L1LossBackward0>)\n",
      "tensor(0.0303, grad_fn=<L1LossBackward0>)\n",
      "tensor(0.0300, grad_fn=<L1LossBackward0>)\n",
      "tensor(0.0296, grad_fn=<L1LossBackward0>)\n",
      "tensor(0.0293, grad_fn=<L1LossBackward0>)\n",
      "tensor(0.0289, grad_fn=<L1LossBackward0>)\n",
      "tensor(0.0286, grad_fn=<L1LossBackward0>)\n",
      "tensor(0.0282, grad_fn=<L1LossBackward0>)\n",
      "tensor(0.0279, grad_fn=<L1LossBackward0>)\n",
      "Epoch:90 | Loss:0.02788739837706089 | Test Loss:0.06473556160926819\n",
      "OrderedDict([('weight', tensor([0.5629])), ('bias', tensor([0.3573]))])\n",
      "tensor(0.0275, grad_fn=<L1LossBackward0>)\n",
      "tensor(0.0272, grad_fn=<L1LossBackward0>)\n",
      "tensor(0.0269, grad_fn=<L1LossBackward0>)\n",
      "tensor(0.0265, grad_fn=<L1LossBackward0>)\n",
      "tensor(0.0262, grad_fn=<L1LossBackward0>)\n",
      "tensor(0.0258, grad_fn=<L1LossBackward0>)\n",
      "tensor(0.0255, grad_fn=<L1LossBackward0>)\n",
      "tensor(0.0251, grad_fn=<L1LossBackward0>)\n",
      "tensor(0.0248, grad_fn=<L1LossBackward0>)\n"
     ]
    }
   ],
   "source": [
    "torch.manual_seed(42)\n",
    "# An epoch one loop through the complete data, one of the hyperparameter\n",
    "epochs = 100\n",
    "\n",
    "# Loop through the data\n",
    "for epoch in range(epochs):\n",
    "    # set the model to training model\n",
    "    model_0.train() # train mode in pytorch sets all the parameters that requires gardient to require_gradients=True\n",
    "    \n",
    "    # 1. Forward method\n",
    "    y_pred = model_0(X_train)\n",
    "    \n",
    "    #2. Calculate Loss\n",
    "    loss = loss_fn(y_pred, y_train)\n",
    "    print(loss)\n",
    "    #3. Optimizer zero grad\n",
    "    optimizer.zero_grad()\n",
    "    \n",
    "    #4.Perform back propagation\n",
    "    loss.backward()\n",
    "    \n",
    "    #5. Perform gardient descent\n",
    "    optimizer.step() # be default how the optimizer change will accumulate through the loop.. so we have to zero them in step 3\n",
    "    \n",
    "    \n",
    "    # Testing\n",
    "    model_0.eval() # turns-off dfferent settings ( including dropout, batch-norm) not needed for testing\n",
    "    with torch.inference_mode(): # turns off gradient tracking and couple of other things behind the scenes\n",
    "        # 1. forward pass\n",
    "        test_pred = model_0(X_test)\n",
    "        \n",
    "        # 2. calculate test loss\n",
    "        test_loss = loss_fn(test_pred, y_test)\n",
    "    if epoch % 10 == 0:\n",
    "        print(f\"Epoch:{epoch} | Loss:{loss} | Test Loss:{test_loss}\")\n",
    "        \n",
    "        # print model state\n",
    "        print(model_0.state_dict())"
   ]
  },
  {
   "cell_type": "code",
   "execution_count": 18,
   "id": "060a45cc",
   "metadata": {
    "execution": {
     "iopub.execute_input": "2022-09-13T11:30:19.623502Z",
     "iopub.status.busy": "2022-09-13T11:30:19.622050Z",
     "iopub.status.idle": "2022-09-13T11:30:19.974409Z",
     "shell.execute_reply": "2022-09-13T11:30:19.973167Z"
    },
    "papermill": {
     "duration": 0.366176,
     "end_time": "2022-09-13T11:30:19.977168",
     "exception": false,
     "start_time": "2022-09-13T11:30:19.610992",
     "status": "completed"
    },
    "tags": []
   },
   "outputs": [
    {
     "data": {
      "image/png": "[encoded data removed]",
      "text/plain": [
       "<Figure size 720x504 with 1 Axes>"
      ]
     },
     "metadata": {
      "needs_background": "light"
     },
     "output_type": "display_data"
    }
   ],
   "source": [
    "# make predictions\n",
    "with torch.inference_mode():\n",
    "    y_pred = model_0(X_test)\n",
    "    \n",
    "plot_predictions(predictions=y_pred)"
   ]
  },
  {
   "cell_type": "code",
   "execution_count": null,
   "id": "53d2c657",
   "metadata": {
    "papermill": {
     "duration": 0.009754,
     "end_time": "2022-09-13T11:30:19.996880",
     "exception": false,
     "start_time": "2022-09-13T11:30:19.987126",
     "status": "completed"
    },
    "tags": []
   },
   "outputs": [],
   "source": []
  }
 ],
 "metadata": {
  "kernelspec": {
   "display_name": "Python 3",
   "language": "python",
   "name": "python3"
  },
  "language_info": {
   "codemirror_mode": {
    "name": "ipython",
    "version": 3
   },
   "file_extension": ".py",
   "mimetype": "text/x-python",
   "name": "python",
   "nbconvert_exporter": "python",
   "pygments_lexer": "ipython3",
   "version": "3.7.12"
  },
  "papermill": {
   "default_parameters": {},
   "duration": 15.310265,
   "end_time": "2022-09-13T11:30:21.132878",
   "environment_variables": {},
   "exception": null,
   "input_path": "__notebook__.ipynb",
   "output_path": "__notebook__.ipynb",
   "parameters": {},
   "start_time": "2022-09-13T11:30:05.822613",
   "version": "2.3.4"
  }
 },
 "nbformat": 4,
 "nbformat_minor": 5
}
