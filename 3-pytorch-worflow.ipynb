{
 "cells": [
  {
   "cell_type": "markdown",
   "id": "50ca869a",
   "metadata": {
    "_cell_guid": "b1076dfc-b9ad-4769-8c92-a6c4dae69d19",
    "_uuid": "8f2839f25d086af736a60e9eeb907d3b93b6e0e5",
    "papermill": {
     "duration": 0.022033,
     "end_time": "2022-09-14T08:33:11.195181",
     "exception": false,
     "start_time": "2022-09-14T08:33:11.173148",
     "status": "completed"
    },
    "tags": []
   },
   "source": [
    "# Pytorch Workflow"
   ]
  },
  {
   "cell_type": "markdown",
   "id": "eb2c33a4",
   "metadata": {
    "papermill": {
     "duration": 0.014477,
     "end_time": "2022-09-14T08:33:11.225447",
     "exception": false,
     "start_time": "2022-09-14T08:33:11.210970",
     "status": "completed"
    },
    "tags": []
   },
   "source": [
    "### An end-to-end pytorch worflow"
   ]
  },
  {
   "cell_type": "code",
   "execution_count": 1,
   "id": "53f5a0d7",
   "metadata": {
    "execution": {
     "iopub.execute_input": "2022-09-14T08:33:11.260046Z",
     "iopub.status.busy": "2022-09-14T08:33:11.259477Z",
     "iopub.status.idle": "2022-09-14T08:33:11.272556Z",
     "shell.execute_reply": "2022-09-14T08:33:11.271483Z"
    },
    "papermill": {
     "duration": 0.03212,
     "end_time": "2022-09-14T08:33:11.275100",
     "exception": false,
     "start_time": "2022-09-14T08:33:11.242980",
     "status": "completed"
    },
    "tags": []
   },
   "outputs": [],
   "source": [
    "what_were_covering = {1: \"data (prepare and load)\",\n",
    "    2: \"build model\",\n",
    "    3: \"fitting the model to data (training)\",\n",
    "    4: \"making predictions and evaluating a model (inference)\",\n",
    "    5: \"saving and loading a model\",\n",
    "    6: \"putting it all together\"\n",
    "}"
   ]
  },
  {
   "cell_type": "code",
   "execution_count": 2,
   "id": "1be7ee67",
   "metadata": {
    "execution": {
     "iopub.execute_input": "2022-09-14T08:33:11.308853Z",
     "iopub.status.busy": "2022-09-14T08:33:11.308407Z",
     "iopub.status.idle": "2022-09-14T08:33:13.558569Z",
     "shell.execute_reply": "2022-09-14T08:33:13.557088Z"
    },
    "papermill": {
     "duration": 2.270894,
     "end_time": "2022-09-14T08:33:13.561621",
     "exception": false,
     "start_time": "2022-09-14T08:33:11.290727",
     "status": "completed"
    },
    "tags": []
   },
   "outputs": [
    {
     "data": {
      "text/plain": [
       "'1.11.0+cpu'"
      ]
     },
     "execution_count": 2,
     "metadata": {},
     "output_type": "execute_result"
    }
   ],
   "source": [
    "import torch\n",
    "from torch import nn ## nn contains all of pytorchs's building blocks for neural networks\n",
    "import matplotlib.pyplot as plt\n",
    "import numpy as np\n",
    "# check pytorch version\n",
    "torch.__version__"
   ]
  },
  {
   "cell_type": "markdown",
   "id": "4c96a66f",
   "metadata": {
    "papermill": {
     "duration": 0.014422,
     "end_time": "2022-09-14T08:33:13.591174",
     "exception": false,
     "start_time": "2022-09-14T08:33:13.576752",
     "status": "completed"
    },
    "tags": []
   },
   "source": [
    "## 1. Data Preparing and Loading"
   ]
  },
  {
   "cell_type": "markdown",
   "id": "d75efd5c",
   "metadata": {
    "papermill": {
     "duration": 0.014715,
     "end_time": "2022-09-14T08:33:13.621848",
     "exception": false,
     "start_time": "2022-09-14T08:33:13.607133",
     "status": "completed"
    },
    "tags": []
   },
   "source": [
    "### Let's create some *know* data using linear regression formula. We'll use a linear regression formula to make a straight line with *know* **parameters**"
   ]
  },
  {
   "cell_type": "code",
   "execution_count": 3,
   "id": "8d42c1a8",
   "metadata": {
    "execution": {
     "iopub.execute_input": "2022-09-14T08:33:13.654789Z",
     "iopub.status.busy": "2022-09-14T08:33:13.654098Z",
     "iopub.status.idle": "2022-09-14T08:33:13.668910Z",
     "shell.execute_reply": "2022-09-14T08:33:13.667737Z"
    },
    "papermill": {
     "duration": 0.034605,
     "end_time": "2022-09-14T08:33:13.671795",
     "exception": false,
     "start_time": "2022-09-14T08:33:13.637190",
     "status": "completed"
    },
    "tags": []
   },
   "outputs": [],
   "source": [
    "### Create *know* parameters\n",
    "weight = 0.7\n",
    "bias = 0.3\n",
    "\n",
    "# create\n",
    "start = 0\n",
    "end = 1\n",
    "step =0.02\n",
    "X = torch.arange(start,end, step).unsqueeze(dim=1)\n",
    "y = weight * X + bias"
   ]
  },
  {
   "cell_type": "code",
   "execution_count": 4,
   "id": "1896d0bb",
   "metadata": {
    "execution": {
     "iopub.execute_input": "2022-09-14T08:33:13.706230Z",
     "iopub.status.busy": "2022-09-14T08:33:13.705306Z",
     "iopub.status.idle": "2022-09-14T08:33:13.716491Z",
     "shell.execute_reply": "2022-09-14T08:33:13.715113Z"
    },
    "papermill": {
     "duration": 0.032334,
     "end_time": "2022-09-14T08:33:13.719800",
     "exception": false,
     "start_time": "2022-09-14T08:33:13.687466",
     "status": "completed"
    },
    "tags": []
   },
   "outputs": [
    {
     "data": {
      "text/plain": [
       "(tensor([[0.0000],\n",
       "         [0.0200],\n",
       "         [0.0400],\n",
       "         [0.0600],\n",
       "         [0.0800],\n",
       "         [0.1000],\n",
       "         [0.1200],\n",
       "         [0.1400],\n",
       "         [0.1600],\n",
       "         [0.1800]]),\n",
       " tensor([[0.3000],\n",
       "         [0.3140],\n",
       "         [0.3280],\n",
       "         [0.3420],\n",
       "         [0.3560],\n",
       "         [0.3700],\n",
       "         [0.3840],\n",
       "         [0.3980],\n",
       "         [0.4120],\n",
       "         [0.4260]]),\n",
       " torch.Size([50, 1]),\n",
       " torch.Size([50, 1]))"
      ]
     },
     "execution_count": 4,
     "metadata": {},
     "output_type": "execute_result"
    }
   ],
   "source": [
    "X[:10], y[:10], X.shape, y.shape"
   ]
  },
  {
   "cell_type": "markdown",
   "id": "7e18c266",
   "metadata": {
    "papermill": {
     "duration": 0.015162,
     "end_time": "2022-09-14T08:33:13.751901",
     "exception": false,
     "start_time": "2022-09-14T08:33:13.736739",
     "status": "completed"
    },
    "tags": []
   },
   "source": [
    "### Splitting data into training and test set"
   ]
  },
  {
   "cell_type": "code",
   "execution_count": 5,
   "id": "0244aea6",
   "metadata": {
    "execution": {
     "iopub.execute_input": "2022-09-14T08:33:13.785203Z",
     "iopub.status.busy": "2022-09-14T08:33:13.784599Z",
     "iopub.status.idle": "2022-09-14T08:33:13.793113Z",
     "shell.execute_reply": "2022-09-14T08:33:13.792125Z"
    },
    "papermill": {
     "duration": 0.028681,
     "end_time": "2022-09-14T08:33:13.795569",
     "exception": false,
     "start_time": "2022-09-14T08:33:13.766888",
     "status": "completed"
    },
    "tags": []
   },
   "outputs": [
    {
     "data": {
      "text/plain": [
       "(50, 50)"
      ]
     },
     "execution_count": 5,
     "metadata": {},
     "output_type": "execute_result"
    }
   ],
   "source": [
    "len(X), len(y)"
   ]
  },
  {
   "cell_type": "code",
   "execution_count": 6,
   "id": "53d9c787",
   "metadata": {
    "execution": {
     "iopub.execute_input": "2022-09-14T08:33:13.829121Z",
     "iopub.status.busy": "2022-09-14T08:33:13.827756Z",
     "iopub.status.idle": "2022-09-14T08:33:13.835397Z",
     "shell.execute_reply": "2022-09-14T08:33:13.834259Z"
    },
    "papermill": {
     "duration": 0.027319,
     "end_time": "2022-09-14T08:33:13.838022",
     "exception": false,
     "start_time": "2022-09-14T08:33:13.810703",
     "status": "completed"
    },
    "tags": []
   },
   "outputs": [
    {
     "data": {
      "text/plain": [
       "40"
      ]
     },
     "execution_count": 6,
     "metadata": {},
     "output_type": "execute_result"
    }
   ],
   "source": [
    "# create a train-test split\n",
    "train_split = int(0.8 * len(X))\n",
    "train_split"
   ]
  },
  {
   "cell_type": "code",
   "execution_count": 7,
   "id": "067bb870",
   "metadata": {
    "execution": {
     "iopub.execute_input": "2022-09-14T08:33:13.874129Z",
     "iopub.status.busy": "2022-09-14T08:33:13.872801Z",
     "iopub.status.idle": "2022-09-14T08:33:13.879515Z",
     "shell.execute_reply": "2022-09-14T08:33:13.878405Z"
    },
    "papermill": {
     "duration": 0.028369,
     "end_time": "2022-09-14T08:33:13.882164",
     "exception": false,
     "start_time": "2022-09-14T08:33:13.853795",
     "status": "completed"
    },
    "tags": []
   },
   "outputs": [],
   "source": [
    "X_train, y_train = X[:train_split], y[:train_split]\n",
    "X_test, y_test = X[train_split:], y[train_split:]"
   ]
  },
  {
   "cell_type": "code",
   "execution_count": 8,
   "id": "1339dc23",
   "metadata": {
    "execution": {
     "iopub.execute_input": "2022-09-14T08:33:13.916185Z",
     "iopub.status.busy": "2022-09-14T08:33:13.914869Z",
     "iopub.status.idle": "2022-09-14T08:33:13.924742Z",
     "shell.execute_reply": "2022-09-14T08:33:13.923504Z"
    },
    "papermill": {
     "duration": 0.030108,
     "end_time": "2022-09-14T08:33:13.927460",
     "exception": false,
     "start_time": "2022-09-14T08:33:13.897352",
     "status": "completed"
    },
    "tags": []
   },
   "outputs": [
    {
     "data": {
      "text/plain": [
       "(40, 10)"
      ]
     },
     "execution_count": 8,
     "metadata": {},
     "output_type": "execute_result"
    }
   ],
   "source": [
    "len(X_train), len(X_test)"
   ]
  },
  {
   "cell_type": "markdown",
   "id": "ecfbc560",
   "metadata": {
    "papermill": {
     "duration": 0.01543,
     "end_time": "2022-09-14T08:33:13.959461",
     "exception": false,
     "start_time": "2022-09-14T08:33:13.944031",
     "status": "completed"
    },
    "tags": []
   },
   "source": [
    "## Plot predictions"
   ]
  },
  {
   "cell_type": "code",
   "execution_count": 9,
   "id": "57fc9e8d",
   "metadata": {
    "execution": {
     "iopub.execute_input": "2022-09-14T08:33:13.994908Z",
     "iopub.status.busy": "2022-09-14T08:33:13.993932Z",
     "iopub.status.idle": "2022-09-14T08:33:14.004400Z",
     "shell.execute_reply": "2022-09-14T08:33:14.002604Z"
    },
    "papermill": {
     "duration": 0.032402,
     "end_time": "2022-09-14T08:33:14.008050",
     "exception": false,
     "start_time": "2022-09-14T08:33:13.975648",
     "status": "completed"
    },
    "tags": []
   },
   "outputs": [],
   "source": [
    "def plot_predictions(train_data=X_train,\n",
    "                     train_labels=y_train,\n",
    "                     test_data=X_test,\n",
    "                     test_lables=y_test,\n",
    "                     predictions=None):\n",
    "    \"\"\"\n",
    "    Plots training data, test data and compare predictions\n",
    "    \"\"\"\n",
    "    plt.figure(figsize=(10,7))\n",
    "    \n",
    "    # plot training data\n",
    "    plt.scatter(train_data, train_labels, c=\"b\", s=4, label=\"Training Data\")\n",
    "    \n",
    "    # plot testing data\n",
    "    plt.scatter(test_data, test_lables, c=\"g\", s=4, label=\"Testing Data\")\n",
    "    \n",
    "    # are there predictions?\n",
    "    if predictions is not None:\n",
    "        # plot the predictions if they exists\n",
    "        plt.scatter(test_data, predictions, c=\"r\", s=4, label=\"Predictions\")\n",
    "        \n",
    "    # show legends\n",
    "    plt.legend(prop={\"size\": 14})"
   ]
  },
  {
   "cell_type": "code",
   "execution_count": 10,
   "id": "43181e06",
   "metadata": {
    "execution": {
     "iopub.execute_input": "2022-09-14T08:33:14.042882Z",
     "iopub.status.busy": "2022-09-14T08:33:14.041894Z",
     "iopub.status.idle": "2022-09-14T08:33:14.434202Z",
     "shell.execute_reply": "2022-09-14T08:33:14.432873Z"
    },
    "papermill": {
     "duration": 0.412774,
     "end_time": "2022-09-14T08:33:14.437001",
     "exception": false,
     "start_time": "2022-09-14T08:33:14.024227",
     "status": "completed"
    },
    "tags": []
   },
   "outputs": [
    {
     "data": {
      "image/png": "[encoded data removed]",
      "text/plain": [
       "<Figure size 720x504 with 1 Axes>"
      ]
     },
     "metadata": {
      "needs_background": "light"
     },
     "output_type": "display_data"
    }
   ],
   "source": [
    "plot_predictions()"
   ]
  },
  {
   "cell_type": "markdown",
   "id": "daf32979",
   "metadata": {
    "papermill": {
     "duration": 0.016257,
     "end_time": "2022-09-14T08:33:14.468828",
     "exception": false,
     "start_time": "2022-09-14T08:33:14.452571",
     "status": "completed"
    },
    "tags": []
   },
   "source": [
    "# Build Model\n",
    "\n",
    "Our first pytorch model - Linear Regression"
   ]
  },
  {
   "cell_type": "markdown",
   "id": "1f8805cb",
   "metadata": {
    "papermill": {
     "duration": 0.015025,
     "end_time": "2022-09-14T08:33:14.500362",
     "exception": false,
     "start_time": "2022-09-14T08:33:14.485337",
     "status": "completed"
    },
    "tags": []
   },
   "source": [
    "### Linear regression Model class"
   ]
  },
  {
   "cell_type": "code",
   "execution_count": 11,
   "id": "537b39e0",
   "metadata": {
    "execution": {
     "iopub.execute_input": "2022-09-14T08:33:14.534673Z",
     "iopub.status.busy": "2022-09-14T08:33:14.532953Z",
     "iopub.status.idle": "2022-09-14T08:33:14.543006Z",
     "shell.execute_reply": "2022-09-14T08:33:14.541927Z"
    },
    "papermill": {
     "duration": 0.030152,
     "end_time": "2022-09-14T08:33:14.545907",
     "exception": false,
     "start_time": "2022-09-14T08:33:14.515755",
     "status": "completed"
    },
    "tags": []
   },
   "outputs": [],
   "source": [
    "class LinearRegressionModel(nn.Module): # almost everything in Pytorch inherits from nn.Module\n",
    "    \n",
    "    def __init__(self):\n",
    "        super().__init__()\n",
    "        self.weight = nn.Parameter(torch.randn(1, requires_grad=True, dtype=torch.float))\n",
    "        self.bias = nn.Parameter(torch.randn(1, requires_grad=True, dtype=torch.float))\n",
    "        \n",
    "    # forward method to define the computation in the model\n",
    "    def forward(self, x: torch.Tensor) -> torch.Tensor: # \"x\"is a input data\n",
    "        return self.weight * x + self.bias # this is the linear regression formula"
   ]
  },
  {
   "cell_type": "markdown",
   "id": "058ec7e7",
   "metadata": {
    "papermill": {
     "duration": 0.015032,
     "end_time": "2022-09-14T08:33:14.576550",
     "exception": false,
     "start_time": "2022-09-14T08:33:14.561518",
     "status": "completed"
    },
    "tags": []
   },
   "source": [
    "### Pytorch model building essentials\n",
    "\n",
    "* torch.nn - contains all the building blocks for computational graphs ( a Neural Network can be consideted as computational graphs)\n",
    "* torch.nn.Parameter - what parameters should our model try and learn - Often a pytorch layer from torch.nn will try and set this for us\n",
    "* torch.nn.Module - The base class for all neural network modules , if you subclass this, you should override the *forward* method\n",
    "* torch.optim - This is where where the optimizers in Pytorch live, will help with gradient descent\n",
    "* def forward() - All nn.Module subclassses require you to overwrite forward(), this methods defines what happens in forward computation"
   ]
  },
  {
   "cell_type": "markdown",
   "id": "9d57e79b",
   "metadata": {
    "papermill": {
     "duration": 0.015986,
     "end_time": "2022-09-14T08:33:14.609169",
     "exception": false,
     "start_time": "2022-09-14T08:33:14.593183",
     "status": "completed"
    },
    "tags": []
   },
   "source": [
    "### Checking the contents of our pytorch model\n",
    "\n",
    "Now that we have created our model, let's check what is inside this model\n",
    "\n",
    "Checkout model paarmerets using .parameters()"
   ]
  },
  {
   "cell_type": "code",
   "execution_count": 12,
   "id": "a8dae5a1",
   "metadata": {
    "execution": {
     "iopub.execute_input": "2022-09-14T08:33:14.643468Z",
     "iopub.status.busy": "2022-09-14T08:33:14.642984Z",
     "iopub.status.idle": "2022-09-14T08:33:14.660362Z",
     "shell.execute_reply": "2022-09-14T08:33:14.659376Z"
    },
    "papermill": {
     "duration": 0.037162,
     "end_time": "2022-09-14T08:33:14.662798",
     "exception": false,
     "start_time": "2022-09-14T08:33:14.625636",
     "status": "completed"
    },
    "tags": []
   },
   "outputs": [
    {
     "data": {
      "text/plain": [
       "[Parameter containing:\n",
       " tensor([0.3367], requires_grad=True),\n",
       " Parameter containing:\n",
       " tensor([0.1288], requires_grad=True)]"
      ]
     },
     "execution_count": 12,
     "metadata": {},
     "output_type": "execute_result"
    }
   ],
   "source": [
    "# create a random seed\n",
    "torch.manual_seed(42)\n",
    "\n",
    "# create an instance of our model\n",
    "model_0 = LinearRegressionModel()\n",
    "\n",
    "# checkout the paarmeters\n",
    "list(model_0.parameters())"
   ]
  },
  {
   "cell_type": "code",
   "execution_count": 13,
   "id": "e94513e5",
   "metadata": {
    "execution": {
     "iopub.execute_input": "2022-09-14T08:33:14.697136Z",
     "iopub.status.busy": "2022-09-14T08:33:14.696239Z",
     "iopub.status.idle": "2022-09-14T08:33:14.704734Z",
     "shell.execute_reply": "2022-09-14T08:33:14.703582Z"
    },
    "papermill": {
     "duration": 0.029115,
     "end_time": "2022-09-14T08:33:14.707600",
     "exception": false,
     "start_time": "2022-09-14T08:33:14.678485",
     "status": "completed"
    },
    "tags": []
   },
   "outputs": [
    {
     "data": {
      "text/plain": [
       "OrderedDict([('weight', tensor([0.3367])), ('bias', tensor([0.1288]))])"
      ]
     },
     "execution_count": 13,
     "metadata": {},
     "output_type": "execute_result"
    }
   ],
   "source": [
    "# List of named paarmeters\n",
    "model_0.state_dict()"
   ]
  },
  {
   "cell_type": "markdown",
   "id": "3680fcf7",
   "metadata": {
    "papermill": {
     "duration": 0.016502,
     "end_time": "2022-09-14T08:33:14.740678",
     "exception": false,
     "start_time": "2022-09-14T08:33:14.724176",
     "status": "completed"
    },
    "tags": []
   },
   "source": [
    "### Making predictions using the torch.inference_mode()\n",
    "\n",
    "To check our model's pedictive power, let's see how well its predicts 'y_test' based on 'X_test'\n",
    "\n",
    "When we pass our data through our model, its is going to run it through the 'forward()' method"
   ]
  },
  {
   "cell_type": "code",
   "execution_count": 14,
   "id": "d826eb2d",
   "metadata": {
    "execution": {
     "iopub.execute_input": "2022-09-14T08:33:14.775068Z",
     "iopub.status.busy": "2022-09-14T08:33:14.774220Z",
     "iopub.status.idle": "2022-09-14T08:33:14.784686Z",
     "shell.execute_reply": "2022-09-14T08:33:14.783321Z"
    },
    "papermill": {
     "duration": 0.030927,
     "end_time": "2022-09-14T08:33:14.787776",
     "exception": false,
     "start_time": "2022-09-14T08:33:14.756849",
     "status": "completed"
    },
    "tags": []
   },
   "outputs": [
    {
     "data": {
      "text/plain": [
       "tensor([[0.3982],\n",
       "        [0.4049],\n",
       "        [0.4116],\n",
       "        [0.4184],\n",
       "        [0.4251],\n",
       "        [0.4318],\n",
       "        [0.4386],\n",
       "        [0.4453],\n",
       "        [0.4520],\n",
       "        [0.4588]])"
      ]
     },
     "execution_count": 14,
     "metadata": {},
     "output_type": "execute_result"
    }
   ],
   "source": [
    "# make predictions with model\n",
    "\n",
    "with torch.inference_mode():\n",
    "    y_preds = model_0(X_test)\n",
    "    \n",
    "# you can do something similar using torch.no_gard() but inference_mode is prefered\n",
    "# with torch.no_grad():\n",
    "#     y_pred = model_0(X_test)\n",
    "y_preds"
   ]
  },
  {
   "cell_type": "code",
   "execution_count": 15,
   "id": "98b91277",
   "metadata": {
    "execution": {
     "iopub.execute_input": "2022-09-14T08:33:14.823770Z",
     "iopub.status.busy": "2022-09-14T08:33:14.822760Z",
     "iopub.status.idle": "2022-09-14T08:33:15.172605Z",
     "shell.execute_reply": "2022-09-14T08:33:15.171147Z"
    },
    "papermill": {
     "duration": 0.371077,
     "end_time": "2022-09-14T08:33:15.175337",
     "exception": false,
     "start_time": "2022-09-14T08:33:14.804260",
     "status": "completed"
    },
    "tags": []
   },
   "outputs": [
    {
     "data": {
      "image/png": "[encoded data removed]",
      "text/plain": [
       "<Figure size 720x504 with 1 Axes>"
      ]
     },
     "metadata": {
      "needs_background": "light"
     },
     "output_type": "display_data"
    }
   ],
   "source": [
    "plot_predictions(predictions=y_preds)"
   ]
  },
  {
   "cell_type": "markdown",
   "id": "ff73beb8",
   "metadata": {
    "papermill": {
     "duration": 0.016795,
     "end_time": "2022-09-14T08:33:15.210260",
     "exception": false,
     "start_time": "2022-09-14T08:33:15.193465",
     "status": "completed"
    },
    "tags": []
   },
   "source": [
    "## Training Model"
   ]
  },
  {
   "cell_type": "markdown",
   "id": "d9b701ae",
   "metadata": {
    "papermill": {
     "duration": 0.015896,
     "end_time": "2022-09-14T08:33:15.243383",
     "exception": false,
     "start_time": "2022-09-14T08:33:15.227487",
     "status": "completed"
    },
    "tags": []
   },
   "source": [
    "## Things we need to train model:\n",
    "\n",
    "* loss function\n",
    "* optimizer\n",
    "* training loop\n",
    "* testing loop"
   ]
  },
  {
   "cell_type": "markdown",
   "id": "2dc79edd",
   "metadata": {
    "papermill": {
     "duration": 0.016958,
     "end_time": "2022-09-14T08:33:15.277178",
     "exception": false,
     "start_time": "2022-09-14T08:33:15.260220",
     "status": "completed"
    },
    "tags": []
   },
   "source": [
    "### Loss Function: A way to measure how wrong your model predictions are. Lower are better\n",
    "\n",
    "### Optimizer: Takes into account the loss of a model and adjusts the model's parameters to improve the loss function"
   ]
  },
  {
   "cell_type": "code",
   "execution_count": 16,
   "id": "6e8e6730",
   "metadata": {
    "execution": {
     "iopub.execute_input": "2022-09-14T08:33:15.315584Z",
     "iopub.status.busy": "2022-09-14T08:33:15.315112Z",
     "iopub.status.idle": "2022-09-14T08:33:15.322993Z",
     "shell.execute_reply": "2022-09-14T08:33:15.321185Z"
    },
    "papermill": {
     "duration": 0.030285,
     "end_time": "2022-09-14T08:33:15.325648",
     "exception": false,
     "start_time": "2022-09-14T08:33:15.295363",
     "status": "completed"
    },
    "tags": []
   },
   "outputs": [],
   "source": [
    "## Setup a loss function\n",
    "## Mean Absolute Error ( MAE or L1 Loss)\n",
    "\n",
    "loss_fn = nn.L1Loss()\n",
    "\n",
    "## Set up a optimizer ( Stochastic Gradient Descent)\n",
    "optimizer = torch.optim.SGD(params=model_0.parameters(), \n",
    "                            lr=0.01)"
   ]
  },
  {
   "cell_type": "markdown",
   "id": "2fe6cc33",
   "metadata": {
    "papermill": {
     "duration": 0.016537,
     "end_time": "2022-09-14T08:33:15.359496",
     "exception": false,
     "start_time": "2022-09-14T08:33:15.342959",
     "status": "completed"
    },
    "tags": []
   },
   "source": [
    "## Building a Training and Testing Loop\n",
    "\n",
    "Things we need a training loop\n",
    "\n",
    "1. Loop through the data\n",
    "2. Forward pass ( this involves data moving through model's forward()) - forward propogation - to make predictions\n",
    "3. Calculate the loss ( compare the forward pass predictions to ground truth)\n",
    "4. Optimizer zero grad\n",
    "5. Loss backward - moves backward through the network to calculate the gardients of each of the parameters of our model with respect to loss function - back propagation\n",
    "6. Optimizer step - use the optimizer to adjust the model parameters to try and improve the loss"
   ]
  },
  {
   "cell_type": "code",
   "execution_count": 17,
   "id": "07150c58",
   "metadata": {
    "execution": {
     "iopub.execute_input": "2022-09-14T08:33:15.396085Z",
     "iopub.status.busy": "2022-09-14T08:33:15.395603Z",
     "iopub.status.idle": "2022-09-14T08:33:15.500240Z",
     "shell.execute_reply": "2022-09-14T08:33:15.498531Z"
    },
    "papermill": {
     "duration": 0.128702,
     "end_time": "2022-09-14T08:33:15.505929",
     "exception": false,
     "start_time": "2022-09-14T08:33:15.377227",
     "status": "completed"
    },
    "tags": []
   },
   "outputs": [
    {
     "name": "stdout",
     "output_type": "stream",
     "text": [
      "Epoch:0 | Loss:0.31288138031959534 | Test Loss:0.48106518387794495\n",
      "OrderedDict([('weight', tensor([0.3406])), ('bias', tensor([0.1388]))])\n",
      "Epoch:10 | Loss:0.1976713240146637 | Test Loss:0.3463551998138428\n",
      "OrderedDict([('weight', tensor([0.3796])), ('bias', tensor([0.2388]))])\n",
      "Epoch:20 | Loss:0.08908725529909134 | Test Loss:0.21729660034179688\n",
      "OrderedDict([('weight', tensor([0.4184])), ('bias', tensor([0.3333]))])\n",
      "Epoch:30 | Loss:0.053148526698350906 | Test Loss:0.14464017748832703\n",
      "OrderedDict([('weight', tensor([0.4512])), ('bias', tensor([0.3768]))])\n",
      "Epoch:40 | Loss:0.04543796554207802 | Test Loss:0.11360953003168106\n",
      "OrderedDict([('weight', tensor([0.4748])), ('bias', tensor([0.3868]))])\n",
      "Epoch:50 | Loss:0.04167863354086876 | Test Loss:0.09919948130846024\n",
      "OrderedDict([('weight', tensor([0.4938])), ('bias', tensor([0.3843]))])\n",
      "Epoch:60 | Loss:0.03818932920694351 | Test Loss:0.08886633068323135\n",
      "OrderedDict([('weight', tensor([0.5116])), ('bias', tensor([0.3788]))])\n",
      "Epoch:70 | Loss:0.03476089984178543 | Test Loss:0.0805937647819519\n",
      "OrderedDict([('weight', tensor([0.5288])), ('bias', tensor([0.3718]))])\n",
      "Epoch:80 | Loss:0.03132382780313492 | Test Loss:0.07232122868299484\n",
      "OrderedDict([('weight', tensor([0.5459])), ('bias', tensor([0.3648]))])\n",
      "Epoch:90 | Loss:0.02788739837706089 | Test Loss:0.06473556160926819\n",
      "OrderedDict([('weight', tensor([0.5629])), ('bias', tensor([0.3573]))])\n",
      "Epoch:100 | Loss:0.024458957836031914 | Test Loss:0.05646304413676262\n",
      "OrderedDict([('weight', tensor([0.5800])), ('bias', tensor([0.3503]))])\n",
      "Epoch:110 | Loss:0.021020207554101944 | Test Loss:0.04819049686193466\n",
      "OrderedDict([('weight', tensor([0.5972])), ('bias', tensor([0.3433]))])\n",
      "Epoch:120 | Loss:0.01758546568453312 | Test Loss:0.04060482233762741\n",
      "OrderedDict([('weight', tensor([0.6141])), ('bias', tensor([0.3358]))])\n",
      "Epoch:130 | Loss:0.014155393466353416 | Test Loss:0.03233227878808975\n",
      "OrderedDict([('weight', tensor([0.6313])), ('bias', tensor([0.3288]))])\n",
      "Epoch:140 | Loss:0.010716589167714119 | Test Loss:0.024059748277068138\n",
      "OrderedDict([('weight', tensor([0.6485])), ('bias', tensor([0.3218]))])\n",
      "Epoch:150 | Loss:0.0072835334576666355 | Test Loss:0.016474086791276932\n",
      "OrderedDict([('weight', tensor([0.6654])), ('bias', tensor([0.3143]))])\n",
      "Epoch:160 | Loss:0.0038517764769494534 | Test Loss:0.008201557211577892\n",
      "OrderedDict([('weight', tensor([0.6826])), ('bias', tensor([0.3073]))])\n",
      "Epoch:170 | Loss:0.008932482451200485 | Test Loss:0.005023092031478882\n",
      "OrderedDict([('weight', tensor([0.6951])), ('bias', tensor([0.2993]))])\n",
      "Epoch:180 | Loss:0.008932482451200485 | Test Loss:0.005023092031478882\n",
      "OrderedDict([('weight', tensor([0.6951])), ('bias', tensor([0.2993]))])\n",
      "Epoch:190 | Loss:0.008932482451200485 | Test Loss:0.005023092031478882\n",
      "OrderedDict([('weight', tensor([0.6951])), ('bias', tensor([0.2993]))])\n"
     ]
    }
   ],
   "source": [
    "torch.manual_seed(42)\n",
    "# An epoch one loop through the complete data, one of the hyperparameter\n",
    "epochs = 200\n",
    "\n",
    "# Tracking important values\n",
    "epoch_count = []\n",
    "loss_values = []\n",
    "test_loss_values = []\n",
    "\n",
    "# Loop through the data\n",
    "for epoch in range(epochs):\n",
    "    # set the model to training model\n",
    "    model_0.train() # train mode in pytorch sets all the parameters that requires gardient to require_gradients=True\n",
    "    \n",
    "    # 1. Forward method\n",
    "    y_pred = model_0(X_train)\n",
    "    \n",
    "    #2. Calculate Loss\n",
    "    loss = loss_fn(y_pred, y_train)\n",
    "    \n",
    "    #3. Optimizer zero grad\n",
    "    optimizer.zero_grad()\n",
    "    \n",
    "    #4.Perform back propagation\n",
    "    loss.backward()\n",
    "    \n",
    "    #5. Perform gardient descent\n",
    "    optimizer.step() # be default how the optimizer change will accumulate through the loop.. so we have to zero them in step 3\n",
    "    \n",
    "    \n",
    "    # Testing\n",
    "    model_0.eval() # turns-off dfferent settings ( including dropout, batch-norm) not needed for testing\n",
    "    with torch.inference_mode(): # turns off gradient tracking and couple of other things behind the scenes\n",
    "        # 1. forward pass\n",
    "        test_pred = model_0(X_test)\n",
    "        \n",
    "        # 2. calculate test loss\n",
    "        test_loss = loss_fn(test_pred, y_test)\n",
    "    if epoch % 10 == 0:\n",
    "        epoch_count.append(epoch)\n",
    "        loss_values.append(loss)\n",
    "        test_loss_values.append(test_loss)\n",
    "        print(f\"Epoch:{epoch} | Loss:{loss} | Test Loss:{test_loss}\")\n",
    "        \n",
    "        # print model state\n",
    "        print(model_0.state_dict())"
   ]
  },
  {
   "cell_type": "code",
   "execution_count": 18,
   "id": "959ce322",
   "metadata": {
    "execution": {
     "iopub.execute_input": "2022-09-14T08:33:15.542004Z",
     "iopub.status.busy": "2022-09-14T08:33:15.541114Z",
     "iopub.status.idle": "2022-09-14T08:33:15.894790Z",
     "shell.execute_reply": "2022-09-14T08:33:15.893304Z"
    },
    "papermill": {
     "duration": 0.375338,
     "end_time": "2022-09-14T08:33:15.897933",
     "exception": false,
     "start_time": "2022-09-14T08:33:15.522595",
     "status": "completed"
    },
    "tags": []
   },
   "outputs": [
    {
     "data": {
      "image/png": "[encoded data removed]",
      "text/plain": [
       "<Figure size 720x504 with 1 Axes>"
      ]
     },
     "metadata": {
      "needs_background": "light"
     },
     "output_type": "display_data"
    }
   ],
   "source": [
    "# make predictions\n",
    "with torch.inference_mode():\n",
    "    y_pred = model_0(X_test)\n",
    "    \n",
    "plot_predictions(predictions=y_pred)"
   ]
  },
  {
   "cell_type": "markdown",
   "id": "4e71df45",
   "metadata": {
    "papermill": {
     "duration": 0.016461,
     "end_time": "2022-09-14T08:33:15.932763",
     "exception": false,
     "start_time": "2022-09-14T08:33:15.916302",
     "status": "completed"
    },
    "tags": []
   },
   "source": [
    "## plot the loss curves"
   ]
  },
  {
   "cell_type": "code",
   "execution_count": 19,
   "id": "0ad02352",
   "metadata": {
    "execution": {
     "iopub.execute_input": "2022-09-14T08:33:15.972282Z",
     "iopub.status.busy": "2022-09-14T08:33:15.971137Z",
     "iopub.status.idle": "2022-09-14T08:33:16.239655Z",
     "shell.execute_reply": "2022-09-14T08:33:16.238334Z"
    },
    "papermill": {
     "duration": 0.290262,
     "end_time": "2022-09-14T08:33:16.242566",
     "exception": false,
     "start_time": "2022-09-14T08:33:15.952304",
     "status": "completed"
    },
    "tags": []
   },
   "outputs": [
    {
     "data": {
      "text/plain": [
       "<matplotlib.legend.Legend at 0x7fa9ad73e6d0>"
      ]
     },
     "execution_count": 19,
     "metadata": {},
     "output_type": "execute_result"
    },
    {
     "data": {
      "image/png": "[encoded data removed]",
      "text/plain": [
       "<Figure size 432x288 with 1 Axes>"
      ]
     },
     "metadata": {
      "needs_background": "light"
     },
     "output_type": "display_data"
    }
   ],
   "source": [
    "plt.plot(epoch_count, np.array(torch.tensor(loss_values).numpy()), label=\"Train Loss\")\n",
    "plt.plot(epoch_count, np.array(torch.tensor(test_loss_values).numpy()), label=\"Test Loss\")\n",
    "plt.title(\"training and test loss curves\")\n",
    "plt.ylabel(\"Loss\")\n",
    "plt.xlabel(\"Epochs\")\n",
    "plt.legend()"
   ]
  },
  {
   "cell_type": "markdown",
   "id": "626a5c9a",
   "metadata": {
    "papermill": {
     "duration": 0.02412,
     "end_time": "2022-09-14T08:33:16.285979",
     "exception": false,
     "start_time": "2022-09-14T08:33:16.261859",
     "status": "completed"
    },
    "tags": []
   },
   "source": [
    "# Saving and Loading a Model in Pytorch\n",
    "\n",
    "There are three main methods for saving and loading a model\n",
    "\n",
    "1. `torch.save()` --> allows us to save a PyTorch's object in python's pickle format\n",
    "2. `torch.load()` --> allows us to load a saved PyTorch's object\n",
    "3. `torch.nn.Module.load_state_dict()` --> this allows us to load a model's saved state dict"
   ]
  },
  {
   "cell_type": "markdown",
   "id": "2110bcb8",
   "metadata": {
    "papermill": {
     "duration": 0.017613,
     "end_time": "2022-09-14T08:33:16.322480",
     "exception": false,
     "start_time": "2022-09-14T08:33:16.304867",
     "status": "completed"
    },
    "tags": []
   },
   "source": [
    "## Saving a model"
   ]
  },
  {
   "cell_type": "code",
   "execution_count": 20,
   "id": "b0090fbd",
   "metadata": {
    "execution": {
     "iopub.execute_input": "2022-09-14T08:33:16.361015Z",
     "iopub.status.busy": "2022-09-14T08:33:16.360181Z",
     "iopub.status.idle": "2022-09-14T08:33:16.372065Z",
     "shell.execute_reply": "2022-09-14T08:33:16.370174Z"
    },
    "papermill": {
     "duration": 0.036406,
     "end_time": "2022-09-14T08:33:16.376092",
     "exception": false,
     "start_time": "2022-09-14T08:33:16.339686",
     "status": "completed"
    },
    "tags": []
   },
   "outputs": [
    {
     "name": "stdout",
     "output_type": "stream",
     "text": [
      "Saving Model to : models/01_pytorch_worklow_model_0.pth\n"
     ]
    }
   ],
   "source": [
    "from pathlib import Path\n",
    "\n",
    "# Create Models directory\n",
    "MODEL_PATH = Path(\"models\")\n",
    "MODEL_PATH.mkdir(parents=True, exist_ok=True)\n",
    "\n",
    "# create a model save path\n",
    "MODEL_NAME = \"01_pytorch_worklow_model_0.pth\"\n",
    "MODEL_SAVE_PATH = MODEL_PATH / MODEL_NAME\n",
    "\n",
    "# save model dict\n",
    "print(f\"Saving Model to : {MODEL_SAVE_PATH}\")\n",
    "torch.save(obj=model_0.state_dict(), f=MODEL_SAVE_PATH)"
   ]
  },
  {
   "cell_type": "code",
   "execution_count": 21,
   "id": "b04d2939",
   "metadata": {
    "execution": {
     "iopub.execute_input": "2022-09-14T08:33:16.415236Z",
     "iopub.status.busy": "2022-09-14T08:33:16.413759Z",
     "iopub.status.idle": "2022-09-14T08:33:17.498849Z",
     "shell.execute_reply": "2022-09-14T08:33:17.496765Z"
    },
    "papermill": {
     "duration": 1.109333,
     "end_time": "2022-09-14T08:33:17.503307",
     "exception": false,
     "start_time": "2022-09-14T08:33:16.393974",
     "status": "completed"
    },
    "tags": []
   },
   "outputs": [
    {
     "name": "stdout",
     "output_type": "stream",
     "text": [
      "total 4\r\n",
      "-rw-r--r-- 1 root root 1063 Sep 14 08:33 01_pytorch_worklow_model_0.pth\r\n"
     ]
    }
   ],
   "source": [
    "!ls -l models"
   ]
  },
  {
   "cell_type": "markdown",
   "id": "0c503b0b",
   "metadata": {
    "papermill": {
     "duration": 0.017669,
     "end_time": "2022-09-14T08:33:17.541233",
     "exception": false,
     "start_time": "2022-09-14T08:33:17.523564",
     "status": "completed"
    },
    "tags": []
   },
   "source": [
    "## Loading a Model\n",
    "\n",
    "Since we saved our model's `state_dict()` rather than the entire model, we will create a new instance of our model class and load the saved state_dict into that"
   ]
  },
  {
   "cell_type": "code",
   "execution_count": 22,
   "id": "ae344864",
   "metadata": {
    "execution": {
     "iopub.execute_input": "2022-09-14T08:33:17.581459Z",
     "iopub.status.busy": "2022-09-14T08:33:17.580887Z",
     "iopub.status.idle": "2022-09-14T08:33:17.592989Z",
     "shell.execute_reply": "2022-09-14T08:33:17.591619Z"
    },
    "papermill": {
     "duration": 0.035715,
     "end_time": "2022-09-14T08:33:17.596069",
     "exception": false,
     "start_time": "2022-09-14T08:33:17.560354",
     "status": "completed"
    },
    "tags": []
   },
   "outputs": [
    {
     "data": {
      "text/plain": [
       "<All keys matched successfully>"
      ]
     },
     "execution_count": 22,
     "metadata": {},
     "output_type": "execute_result"
    }
   ],
   "source": [
    "# create a new instance of our model\n",
    "loaded_model_0 = LinearRegressionModel()\n",
    "\n",
    "# Load the saved state_dict and update the new instance\n",
    "loaded_model_0.load_state_dict(torch.load(MODEL_SAVE_PATH))"
   ]
  },
  {
   "cell_type": "code",
   "execution_count": 23,
   "id": "1eadf0f4",
   "metadata": {
    "execution": {
     "iopub.execute_input": "2022-09-14T08:33:17.634735Z",
     "iopub.status.busy": "2022-09-14T08:33:17.634227Z",
     "iopub.status.idle": "2022-09-14T08:33:17.644610Z",
     "shell.execute_reply": "2022-09-14T08:33:17.642788Z"
    },
    "papermill": {
     "duration": 0.033545,
     "end_time": "2022-09-14T08:33:17.647706",
     "exception": false,
     "start_time": "2022-09-14T08:33:17.614161",
     "status": "completed"
    },
    "tags": []
   },
   "outputs": [
    {
     "data": {
      "text/plain": [
       "OrderedDict([('weight', tensor([0.6990])), ('bias', tensor([0.3093]))])"
      ]
     },
     "execution_count": 23,
     "metadata": {},
     "output_type": "execute_result"
    }
   ],
   "source": [
    "# check if the model is loaded correctly\n",
    "loaded_model_0.state_dict()"
   ]
  },
  {
   "cell_type": "code",
   "execution_count": 24,
   "id": "f16de35f",
   "metadata": {
    "execution": {
     "iopub.execute_input": "2022-09-14T08:33:17.687234Z",
     "iopub.status.busy": "2022-09-14T08:33:17.686695Z",
     "iopub.status.idle": "2022-09-14T08:33:17.698498Z",
     "shell.execute_reply": "2022-09-14T08:33:17.696326Z"
    },
    "papermill": {
     "duration": 0.034845,
     "end_time": "2022-09-14T08:33:17.701862",
     "exception": false,
     "start_time": "2022-09-14T08:33:17.667017",
     "status": "completed"
    },
    "tags": []
   },
   "outputs": [
    {
     "data": {
      "text/plain": [
       "tensor([[0.8685],\n",
       "        [0.8825],\n",
       "        [0.8965],\n",
       "        [0.9105],\n",
       "        [0.9245],\n",
       "        [0.9384],\n",
       "        [0.9524],\n",
       "        [0.9664],\n",
       "        [0.9804],\n",
       "        [0.9944]])"
      ]
     },
     "execution_count": 24,
     "metadata": {},
     "output_type": "execute_result"
    }
   ],
   "source": [
    "# Make some predictions\n",
    "loaded_model_0.eval()\n",
    "with torch.inference_mode():\n",
    "    loaded_model_preds = loaded_model_0(X_test)\n",
    "    \n",
    "loaded_model_preds"
   ]
  },
  {
   "cell_type": "code",
   "execution_count": 25,
   "id": "7d408aaa",
   "metadata": {
    "execution": {
     "iopub.execute_input": "2022-09-14T08:33:17.741243Z",
     "iopub.status.busy": "2022-09-14T08:33:17.740338Z",
     "iopub.status.idle": "2022-09-14T08:33:17.750157Z",
     "shell.execute_reply": "2022-09-14T08:33:17.748718Z"
    },
    "papermill": {
     "duration": 0.033346,
     "end_time": "2022-09-14T08:33:17.753475",
     "exception": false,
     "start_time": "2022-09-14T08:33:17.720129",
     "status": "completed"
    },
    "tags": []
   },
   "outputs": [
    {
     "data": {
      "text/plain": [
       "tensor([[True],\n",
       "        [True],\n",
       "        [True],\n",
       "        [True],\n",
       "        [True],\n",
       "        [True],\n",
       "        [True],\n",
       "        [True],\n",
       "        [True],\n",
       "        [True]])"
      ]
     },
     "execution_count": 25,
     "metadata": {},
     "output_type": "execute_result"
    }
   ],
   "source": [
    "# Compare loaded model preds with original model preds\n",
    "y_pred == loaded_model_preds"
   ]
  },
  {
   "cell_type": "markdown",
   "id": "be90965c",
   "metadata": {
    "papermill": {
     "duration": 0.018876,
     "end_time": "2022-09-14T08:33:17.790311",
     "exception": false,
     "start_time": "2022-09-14T08:33:17.771435",
     "status": "completed"
    },
    "tags": []
   },
   "source": [
    "# 6 . Putting Eveything Together"
   ]
  },
  {
   "cell_type": "code",
   "execution_count": 26,
   "id": "03cf7db3",
   "metadata": {
    "execution": {
     "iopub.execute_input": "2022-09-14T08:33:17.829843Z",
     "iopub.status.busy": "2022-09-14T08:33:17.829325Z",
     "iopub.status.idle": "2022-09-14T08:33:17.838454Z",
     "shell.execute_reply": "2022-09-14T08:33:17.836508Z"
    },
    "papermill": {
     "duration": 0.032695,
     "end_time": "2022-09-14T08:33:17.841694",
     "exception": false,
     "start_time": "2022-09-14T08:33:17.808999",
     "status": "completed"
    },
    "tags": []
   },
   "outputs": [
    {
     "data": {
      "text/plain": [
       "'1.11.0+cpu'"
      ]
     },
     "execution_count": 26,
     "metadata": {},
     "output_type": "execute_result"
    }
   ],
   "source": [
    "import torch\n",
    "from torch import nn\n",
    "import numpy as np\n",
    "import matplotlib.pyplot as plt\n",
    "\n",
    "# check pytorch version\n",
    "torch.__version__"
   ]
  },
  {
   "cell_type": "markdown",
   "id": "87a6b202",
   "metadata": {
    "papermill": {
     "duration": 0.017765,
     "end_time": "2022-09-14T08:33:17.878685",
     "exception": false,
     "start_time": "2022-09-14T08:33:17.860920",
     "status": "completed"
    },
    "tags": []
   },
   "source": [
    "## 6.1 Create device agnostic code.\n",
    "\n",
    "This means if we have got access to a GPU, our code will use it ( for potentially faster computing). If No GPU is available, it will fall back to CPU"
   ]
  },
  {
   "cell_type": "code",
   "execution_count": 27,
   "id": "05835439",
   "metadata": {
    "execution": {
     "iopub.execute_input": "2022-09-14T08:33:17.917252Z",
     "iopub.status.busy": "2022-09-14T08:33:17.916712Z",
     "iopub.status.idle": "2022-09-14T08:33:17.923574Z",
     "shell.execute_reply": "2022-09-14T08:33:17.922198Z"
    },
    "papermill": {
     "duration": 0.029735,
     "end_time": "2022-09-14T08:33:17.926693",
     "exception": false,
     "start_time": "2022-09-14T08:33:17.896958",
     "status": "completed"
    },
    "tags": []
   },
   "outputs": [
    {
     "name": "stdout",
     "output_type": "stream",
     "text": [
      "cpu\n"
     ]
    }
   ],
   "source": [
    "# Setup device agnostic code\n",
    "device = \"cuda\" if torch.cuda.is_available() else \"cpu\"\n",
    "print(device)"
   ]
  },
  {
   "cell_type": "markdown",
   "id": "eea1d8cc",
   "metadata": {
    "papermill": {
     "duration": 0.017694,
     "end_time": "2022-09-14T08:33:17.963651",
     "exception": false,
     "start_time": "2022-09-14T08:33:17.945957",
     "status": "completed"
    },
    "tags": []
   },
   "source": [
    "## 6.2 Data"
   ]
  },
  {
   "cell_type": "code",
   "execution_count": 28,
   "id": "ac5f2bbf",
   "metadata": {
    "execution": {
     "iopub.execute_input": "2022-09-14T08:33:18.003092Z",
     "iopub.status.busy": "2022-09-14T08:33:18.002560Z",
     "iopub.status.idle": "2022-09-14T08:33:18.011603Z",
     "shell.execute_reply": "2022-09-14T08:33:18.009834Z"
    },
    "papermill": {
     "duration": 0.032949,
     "end_time": "2022-09-14T08:33:18.014809",
     "exception": false,
     "start_time": "2022-09-14T08:33:17.981860",
     "status": "completed"
    },
    "tags": []
   },
   "outputs": [],
   "source": [
    "# create some data using the linear regression formula of y = weight * features + bias\n",
    "weight = 0.7\n",
    "bias = 0.3\n",
    "\n",
    "# Create range values\n",
    "start = 0\n",
    "end = 1\n",
    "step = 0.02\n",
    "\n",
    "# Create X and y\n",
    "X = torch.arange(start, end, step).unsqueeze(dim=1)\n",
    "y = weight * X + bias\n",
    "\n",
    "# split the data\n",
    "train_split = int(0.8 * len(X))\n",
    "X_train, y_train = X[:train_split], y[:train_split] \n",
    "X_test, y_test = X[train_split:], y[train_split:]"
   ]
  },
  {
   "cell_type": "code",
   "execution_count": 29,
   "id": "82f36eba",
   "metadata": {
    "execution": {
     "iopub.execute_input": "2022-09-14T08:33:18.055576Z",
     "iopub.status.busy": "2022-09-14T08:33:18.054879Z",
     "iopub.status.idle": "2022-09-14T08:33:18.065984Z",
     "shell.execute_reply": "2022-09-14T08:33:18.064343Z"
    },
    "papermill": {
     "duration": 0.035821,
     "end_time": "2022-09-14T08:33:18.069697",
     "exception": false,
     "start_time": "2022-09-14T08:33:18.033876",
     "status": "completed"
    },
    "tags": []
   },
   "outputs": [],
   "source": [
    "# Plot predictions\n",
    "def plot_predictions(train_data=X_train,\n",
    "                     train_labels=y_train,\n",
    "                     test_data=X_test,\n",
    "                     test_lables=y_test,\n",
    "                     predictions=None):\n",
    "    \"\"\"\n",
    "    Plots training data, test data and compare predictions\n",
    "    \"\"\"\n",
    "    plt.figure(figsize=(10,7))\n",
    "    \n",
    "    # plot training data\n",
    "    plt.scatter(train_data, train_labels, c=\"b\", s=4, label=\"Training Data\")\n",
    "    \n",
    "    # plot testing data\n",
    "    plt.scatter(test_data, test_lables, c=\"g\", s=4, label=\"Testing Data\")\n",
    "    \n",
    "    # are there predictions?\n",
    "    if predictions is not None:\n",
    "        # plot the predictions if they exists\n",
    "        plt.scatter(test_data, predictions, c=\"r\", s=4, label=\"Predictions\")\n",
    "        \n",
    "    # show legends\n",
    "    plt.legend(prop={\"size\": 14})"
   ]
  },
  {
   "cell_type": "code",
   "execution_count": 30,
   "id": "e936c4f5",
   "metadata": {
    "execution": {
     "iopub.execute_input": "2022-09-14T08:33:18.109786Z",
     "iopub.status.busy": "2022-09-14T08:33:18.109300Z",
     "iopub.status.idle": "2022-09-14T08:33:18.441452Z",
     "shell.execute_reply": "2022-09-14T08:33:18.440368Z"
    },
    "papermill": {
     "duration": 0.356067,
     "end_time": "2022-09-14T08:33:18.444140",
     "exception": false,
     "start_time": "2022-09-14T08:33:18.088073",
     "status": "completed"
    },
    "tags": []
   },
   "outputs": [
    {
     "data": {
      "image/png": "[encoded data removed]",
      "text/plain": [
       "<Figure size 720x504 with 1 Axes>"
      ]
     },
     "metadata": {
      "needs_background": "light"
     },
     "output_type": "display_data"
    }
   ],
   "source": [
    "plot_predictions(X_train, y_train, X_test, y_test)"
   ]
  },
  {
   "cell_type": "markdown",
   "id": "43d26f65",
   "metadata": {
    "papermill": {
     "duration": 0.018618,
     "end_time": "2022-09-14T08:33:18.481184",
     "exception": false,
     "start_time": "2022-09-14T08:33:18.462566",
     "status": "completed"
    },
    "tags": []
   },
   "source": [
    "## 6.3 Build a Linear Model"
   ]
  },
  {
   "cell_type": "code",
   "execution_count": 31,
   "id": "f7923ee5",
   "metadata": {
    "execution": {
     "iopub.execute_input": "2022-09-14T08:33:18.523361Z",
     "iopub.status.busy": "2022-09-14T08:33:18.522026Z",
     "iopub.status.idle": "2022-09-14T08:33:18.537440Z",
     "shell.execute_reply": "2022-09-14T08:33:18.536161Z"
    },
    "papermill": {
     "duration": 0.039741,
     "end_time": "2022-09-14T08:33:18.540540",
     "exception": false,
     "start_time": "2022-09-14T08:33:18.500799",
     "status": "completed"
    },
    "tags": []
   },
   "outputs": [
    {
     "data": {
      "text/plain": [
       "(LinearRegressionModelV2(\n",
       "   (linear_layer): Linear(in_features=1, out_features=1, bias=True)\n",
       " ),\n",
       " OrderedDict([('linear_layer.weight', tensor([[0.7645]])),\n",
       "              ('linear_layer.bias', tensor([0.8300]))]))"
      ]
     },
     "execution_count": 31,
     "metadata": {},
     "output_type": "execute_result"
    }
   ],
   "source": [
    "# Create a Linear Model by subclassing nn.Module\n",
    "class LinearRegressionModelV2(nn.Module):\n",
    "    \n",
    "    def __init__(self):\n",
    "        super().__init__()\n",
    "        # use nn.Linear() for creating the model parameters / also called linear transformation, probing layer, fully_coonected layer, dense layer\n",
    "        self.linear_layer = nn.Linear(in_features=1,\n",
    "                                      out_features=1)\n",
    "    \n",
    "    def forward(self, x: torch.Tensor) -> torch.Tensor:\n",
    "        return self.linear_layer(x)\n",
    "    \n",
    "# set the manual seed for reproducbility\n",
    "torch.manual_seed(42)\n",
    "\n",
    "model_1 = LinearRegressionModelV2()\n",
    "model_1, model_1.state_dict()"
   ]
  },
  {
   "cell_type": "markdown",
   "id": "65887575",
   "metadata": {
    "execution": {
     "iopub.execute_input": "2022-09-14T07:01:29.882251Z",
     "iopub.status.busy": "2022-09-14T07:01:29.881744Z",
     "iopub.status.idle": "2022-09-14T07:01:29.888531Z",
     "shell.execute_reply": "2022-09-14T07:01:29.887083Z",
     "shell.execute_reply.started": "2022-09-14T07:01:29.882214Z"
    },
    "papermill": {
     "duration": 0.018648,
     "end_time": "2022-09-14T08:33:18.578826",
     "exception": false,
     "start_time": "2022-09-14T08:33:18.560178",
     "status": "completed"
    },
    "tags": []
   },
   "source": [
    "## 6.4  Use the target device"
   ]
  },
  {
   "cell_type": "code",
   "execution_count": 32,
   "id": "754c14b5",
   "metadata": {
    "execution": {
     "iopub.execute_input": "2022-09-14T08:33:18.618967Z",
     "iopub.status.busy": "2022-09-14T08:33:18.618266Z",
     "iopub.status.idle": "2022-09-14T08:33:18.626539Z",
     "shell.execute_reply": "2022-09-14T08:33:18.625229Z"
    },
    "papermill": {
     "duration": 0.031941,
     "end_time": "2022-09-14T08:33:18.629383",
     "exception": false,
     "start_time": "2022-09-14T08:33:18.597442",
     "status": "completed"
    },
    "tags": []
   },
   "outputs": [
    {
     "data": {
      "text/plain": [
       "device(type='cpu')"
      ]
     },
     "execution_count": 32,
     "metadata": {},
     "output_type": "execute_result"
    }
   ],
   "source": [
    "# check the model's current device\n",
    "next(model_1.parameters()).device"
   ]
  },
  {
   "cell_type": "code",
   "execution_count": 33,
   "id": "6ca97262",
   "metadata": {
    "execution": {
     "iopub.execute_input": "2022-09-14T08:33:18.670074Z",
     "iopub.status.busy": "2022-09-14T08:33:18.668773Z",
     "iopub.status.idle": "2022-09-14T08:33:18.676868Z",
     "shell.execute_reply": "2022-09-14T08:33:18.675820Z"
    },
    "papermill": {
     "duration": 0.031091,
     "end_time": "2022-09-14T08:33:18.679450",
     "exception": false,
     "start_time": "2022-09-14T08:33:18.648359",
     "status": "completed"
    },
    "tags": []
   },
   "outputs": [
    {
     "data": {
      "text/plain": [
       "device(type='cpu')"
      ]
     },
     "execution_count": 33,
     "metadata": {},
     "output_type": "execute_result"
    }
   ],
   "source": [
    "# set the model to use the target device\n",
    "model_1.to(device)\n",
    "next(model_1.parameters()).device"
   ]
  },
  {
   "cell_type": "markdown",
   "id": "d073d051",
   "metadata": {
    "papermill": {
     "duration": 0.01847,
     "end_time": "2022-09-14T08:33:18.717502",
     "exception": false,
     "start_time": "2022-09-14T08:33:18.699032",
     "status": "completed"
    },
    "tags": []
   },
   "source": [
    "## 6.5 Train Model"
   ]
  },
  {
   "cell_type": "code",
   "execution_count": 34,
   "id": "20c35a5c",
   "metadata": {
    "execution": {
     "iopub.execute_input": "2022-09-14T08:33:18.758441Z",
     "iopub.status.busy": "2022-09-14T08:33:18.757317Z",
     "iopub.status.idle": "2022-09-14T08:33:18.852228Z",
     "shell.execute_reply": "2022-09-14T08:33:18.849949Z"
    },
    "papermill": {
     "duration": 0.119133,
     "end_time": "2022-09-14T08:33:18.855698",
     "exception": false,
     "start_time": "2022-09-14T08:33:18.736565",
     "status": "completed"
    },
    "tags": []
   },
   "outputs": [
    {
     "name": "stdout",
     "output_type": "stream",
     "text": [
      "Epoch:0 | Loss:0.5551779866218567 | Test Loss:0.5739762187004089\n",
      "Epoch:10 | Loss:0.4399680495262146 | Test Loss:0.4392663538455963\n",
      "Epoch:20 | Loss:0.3247582018375397 | Test Loss:0.30455657839775085\n",
      "Epoch:30 | Loss:0.20954827964305878 | Test Loss:0.16984674334526062\n",
      "Epoch:40 | Loss:0.09433844685554504 | Test Loss:0.03513689711689949\n",
      "Epoch:50 | Loss:0.023886386305093765 | Test Loss:0.04784906655550003\n",
      "Epoch:60 | Loss:0.0199567973613739 | Test Loss:0.04580312222242355\n",
      "Epoch:70 | Loss:0.016517987474799156 | Test Loss:0.0375305712223053\n",
      "Epoch:80 | Loss:0.013089170679450035 | Test Loss:0.029944902285933495\n",
      "Epoch:90 | Loss:0.009653178043663502 | Test Loss:0.02167237363755703\n",
      "Epoch:100 | Loss:0.006215679459273815 | Test Loss:0.014086711220443249\n",
      "Epoch:110 | Loss:0.002787243574857712 | Test Loss:0.005814164876937866\n",
      "Epoch:120 | Loss:0.0012645035749301314 | Test Loss:0.013801807537674904\n",
      "Epoch:130 | Loss:0.0012645035749301314 | Test Loss:0.013801807537674904\n",
      "Epoch:140 | Loss:0.0012645035749301314 | Test Loss:0.013801807537674904\n",
      "Epoch:150 | Loss:0.0012645035749301314 | Test Loss:0.013801807537674904\n",
      "Epoch:160 | Loss:0.0012645035749301314 | Test Loss:0.013801807537674904\n",
      "Epoch:170 | Loss:0.0012645035749301314 | Test Loss:0.013801807537674904\n",
      "Epoch:180 | Loss:0.0012645035749301314 | Test Loss:0.013801807537674904\n",
      "Epoch:190 | Loss:0.0012645035749301314 | Test Loss:0.013801807537674904\n"
     ]
    }
   ],
   "source": [
    "# Setup Loss Function\n",
    "loss_fn = nn.L1Loss() # same as MAE\n",
    "\n",
    "# Setup Optimizer\n",
    "optimizer = torch.optim.SGD(params = model_1.parameters(),\n",
    "                            lr=0.01)\n",
    "\n",
    "# Training Loop\n",
    "torch.manual_seed(42)\n",
    "\n",
    "epochs = 200\n",
    "\n",
    "# Put data on the target device\n",
    "X_train = X_train.to(device)\n",
    "y_train = y_train.to(device)\n",
    "X_test = X_test.to(device)\n",
    "y_test = y_test.to(device)\n",
    "\n",
    "for epoch in range(epochs):\n",
    "    \n",
    "    model_1.train()\n",
    "    \n",
    "    # 1. Forward Pass\n",
    "    y_pred = model_1(X_train)\n",
    "    \n",
    "    # 2. Calculate Loss\n",
    "    loss = loss_fn(y_pred, y_train)\n",
    "    \n",
    "    # 3. Optimizer zero grad\n",
    "    optimizer.zero_grad()\n",
    "    \n",
    "    # 4. Perform Backpropogation\n",
    "    loss.backward()\n",
    "    \n",
    "    # 5. Optimize the weights\n",
    "    optimizer.step()\n",
    "    \n",
    "    \n",
    "    ## Testing\n",
    "    model_1.eval()\n",
    "    with torch.inference_mode():\n",
    "        test_pred = model_1(X_test)\n",
    "        test_loss = loss_fn(test_pred, y_test)\n",
    "        \n",
    "    \n",
    "    # print stuffs\n",
    "    if epoch % 10 == 0:\n",
    "        print(f\"Epoch:{epoch} | Loss:{loss} | Test Loss:{test_loss}\")"
   ]
  },
  {
   "cell_type": "code",
   "execution_count": 35,
   "id": "cd081f8e",
   "metadata": {
    "execution": {
     "iopub.execute_input": "2022-09-14T08:33:18.898140Z",
     "iopub.status.busy": "2022-09-14T08:33:18.896800Z",
     "iopub.status.idle": "2022-09-14T08:33:18.906819Z",
     "shell.execute_reply": "2022-09-14T08:33:18.905540Z"
    },
    "papermill": {
     "duration": 0.034343,
     "end_time": "2022-09-14T08:33:18.909626",
     "exception": false,
     "start_time": "2022-09-14T08:33:18.875283",
     "status": "completed"
    },
    "tags": []
   },
   "outputs": [
    {
     "data": {
      "text/plain": [
       "OrderedDict([('linear_layer.weight', tensor([[0.6968]])),\n",
       "             ('linear_layer.bias', tensor([0.3025]))])"
      ]
     },
     "execution_count": 35,
     "metadata": {},
     "output_type": "execute_result"
    }
   ],
   "source": [
    "# Check the state dict of the trained model\n",
    "model_1.state_dict()"
   ]
  },
  {
   "cell_type": "markdown",
   "id": "ffe705ef",
   "metadata": {
    "papermill": {
     "duration": 0.018333,
     "end_time": "2022-09-14T08:33:18.946941",
     "exception": false,
     "start_time": "2022-09-14T08:33:18.928608",
     "status": "completed"
    },
    "tags": []
   },
   "source": [
    "## 6.6 Making and Evaluating Predictions"
   ]
  },
  {
   "cell_type": "code",
   "execution_count": 36,
   "id": "4f3f7507",
   "metadata": {
    "execution": {
     "iopub.execute_input": "2022-09-14T08:33:18.988368Z",
     "iopub.status.busy": "2022-09-14T08:33:18.987514Z",
     "iopub.status.idle": "2022-09-14T08:33:18.993777Z",
     "shell.execute_reply": "2022-09-14T08:33:18.992697Z"
    },
    "papermill": {
     "duration": 0.030874,
     "end_time": "2022-09-14T08:33:18.996456",
     "exception": false,
     "start_time": "2022-09-14T08:33:18.965582",
     "status": "completed"
    },
    "tags": []
   },
   "outputs": [],
   "source": [
    "# Turn the model in the eval mode\n",
    "model_1.eval()\n",
    "\n",
    "# Make predictions on the test data\n",
    "with torch.inference_mode():\n",
    "    y_pred = model_1(X_test)"
   ]
  },
  {
   "cell_type": "markdown",
   "id": "9bf78925",
   "metadata": {
    "papermill": {
     "duration": 0.01915,
     "end_time": "2022-09-14T08:33:19.037180",
     "exception": false,
     "start_time": "2022-09-14T08:33:19.018030",
     "status": "completed"
    },
    "tags": []
   },
   "source": [
    "## for plotting we will need to bring our data from cuda ( if it was cuda) to cpu as matplotlib uses numpy and list and they work only on CPU"
   ]
  },
  {
   "cell_type": "code",
   "execution_count": 37,
   "id": "6d2e7352",
   "metadata": {
    "execution": {
     "iopub.execute_input": "2022-09-14T08:33:19.077857Z",
     "iopub.status.busy": "2022-09-14T08:33:19.076981Z",
     "iopub.status.idle": "2022-09-14T08:33:19.427304Z",
     "shell.execute_reply": "2022-09-14T08:33:19.425892Z"
    },
    "papermill": {
     "duration": 0.374289,
     "end_time": "2022-09-14T08:33:19.430477",
     "exception": false,
     "start_time": "2022-09-14T08:33:19.056188",
     "status": "completed"
    },
    "tags": []
   },
   "outputs": [
    {
     "data": {
      "image/png": "[encoded data removed]",
      "text/plain": [
       "<Figure size 720x504 with 1 Axes>"
      ]
     },
     "metadata": {
      "needs_background": "light"
     },
     "output_type": "display_data"
    }
   ],
   "source": [
    "plot_predictions(predictions=y_pred.cpu())"
   ]
  },
  {
   "cell_type": "markdown",
   "id": "f8edbe1b",
   "metadata": {
    "papermill": {
     "duration": 0.019532,
     "end_time": "2022-09-14T08:33:19.470476",
     "exception": false,
     "start_time": "2022-09-14T08:33:19.450944",
     "status": "completed"
    },
    "tags": []
   },
   "source": [
    "## 6.6 Saving and Loading Model"
   ]
  },
  {
   "cell_type": "code",
   "execution_count": 38,
   "id": "3f96a815",
   "metadata": {
    "execution": {
     "iopub.execute_input": "2022-09-14T08:33:19.512480Z",
     "iopub.status.busy": "2022-09-14T08:33:19.511991Z",
     "iopub.status.idle": "2022-09-14T08:33:19.522431Z",
     "shell.execute_reply": "2022-09-14T08:33:19.520868Z"
    },
    "papermill": {
     "duration": 0.035564,
     "end_time": "2022-09-14T08:33:19.525657",
     "exception": false,
     "start_time": "2022-09-14T08:33:19.490093",
     "status": "completed"
    },
    "tags": []
   },
   "outputs": [
    {
     "name": "stdout",
     "output_type": "stream",
     "text": [
      "Saving model to : models/01_pytorch_workflow_model_1.pth\n"
     ]
    }
   ],
   "source": [
    "from pathlib import Path\n",
    "\n",
    "# Create model directory\n",
    "MODEL_PATH = Path(\"models\")\n",
    "MODEL_PATH.mkdir(parents=True, exist_ok=True)\n",
    "\n",
    "# Model Save path\n",
    "MODEL_NAME = \"01_pytorch_workflow_model_1.pth\"\n",
    "MODEL_SAVE_PATH = MODEL_PATH / MODEL_NAME\n",
    "\n",
    "# Save the model dict\n",
    "print(f\"Saving model to : {MODEL_SAVE_PATH}\")\n",
    "torch.save(obj=model_1.state_dict(), f=MODEL_SAVE_PATH)"
   ]
  },
  {
   "cell_type": "code",
   "execution_count": 39,
   "id": "d45af11e",
   "metadata": {
    "execution": {
     "iopub.execute_input": "2022-09-14T08:33:19.568551Z",
     "iopub.status.busy": "2022-09-14T08:33:19.567656Z",
     "iopub.status.idle": "2022-09-14T08:33:19.577700Z",
     "shell.execute_reply": "2022-09-14T08:33:19.576332Z"
    },
    "papermill": {
     "duration": 0.034453,
     "end_time": "2022-09-14T08:33:19.580415",
     "exception": false,
     "start_time": "2022-09-14T08:33:19.545962",
     "status": "completed"
    },
    "tags": []
   },
   "outputs": [
    {
     "data": {
      "text/plain": [
       "LinearRegressionModelV2(\n",
       "  (linear_layer): Linear(in_features=1, out_features=1, bias=True)\n",
       ")"
      ]
     },
     "execution_count": 39,
     "metadata": {},
     "output_type": "execute_result"
    }
   ],
   "source": [
    "## Load a Model\n",
    "\n",
    "# create a new instance\n",
    "loaded_model_1 = LinearRegressionModelV2()\n",
    "\n",
    "# Load the saved model state_dict\n",
    "loaded_model_1.load_state_dict(torch.load(MODEL_SAVE_PATH))\n",
    "\n",
    "# Put the loaded model to device\n",
    "loaded_model_1.to(device)"
   ]
  },
  {
   "cell_type": "code",
   "execution_count": 40,
   "id": "b7bb16b9",
   "metadata": {
    "execution": {
     "iopub.execute_input": "2022-09-14T08:33:19.625378Z",
     "iopub.status.busy": "2022-09-14T08:33:19.624524Z",
     "iopub.status.idle": "2022-09-14T08:33:19.631682Z",
     "shell.execute_reply": "2022-09-14T08:33:19.630536Z"
    },
    "papermill": {
     "duration": 0.032645,
     "end_time": "2022-09-14T08:33:19.634357",
     "exception": false,
     "start_time": "2022-09-14T08:33:19.601712",
     "status": "completed"
    },
    "tags": []
   },
   "outputs": [
    {
     "data": {
      "text/plain": [
       "device(type='cpu')"
      ]
     },
     "execution_count": 40,
     "metadata": {},
     "output_type": "execute_result"
    }
   ],
   "source": [
    "next(model_1.parameters()).device"
   ]
  },
  {
   "cell_type": "code",
   "execution_count": 41,
   "id": "eba48dac",
   "metadata": {
    "execution": {
     "iopub.execute_input": "2022-09-14T08:33:19.678588Z",
     "iopub.status.busy": "2022-09-14T08:33:19.678033Z",
     "iopub.status.idle": "2022-09-14T08:33:19.688639Z",
     "shell.execute_reply": "2022-09-14T08:33:19.687075Z"
    },
    "papermill": {
     "duration": 0.037053,
     "end_time": "2022-09-14T08:33:19.691731",
     "exception": false,
     "start_time": "2022-09-14T08:33:19.654678",
     "status": "completed"
    },
    "tags": []
   },
   "outputs": [
    {
     "data": {
      "text/plain": [
       "tensor([[True],\n",
       "        [True],\n",
       "        [True],\n",
       "        [True],\n",
       "        [True],\n",
       "        [True],\n",
       "        [True],\n",
       "        [True],\n",
       "        [True],\n",
       "        [True]])"
      ]
     },
     "execution_count": 41,
     "metadata": {},
     "output_type": "execute_result"
    }
   ],
   "source": [
    "## Evaluate Loaded Model\n",
    "loaded_model_1.eval()\n",
    "with torch.inference_mode():\n",
    "    loaded_model_1_preds = loaded_model_1(X_test)\n",
    "    \n",
    "y_pred == loaded_model_1_preds"
   ]
  },
  {
   "cell_type": "code",
   "execution_count": null,
   "id": "953c3455",
   "metadata": {
    "papermill": {
     "duration": 0.019888,
     "end_time": "2022-09-14T08:33:19.732641",
     "exception": false,
     "start_time": "2022-09-14T08:33:19.712753",
     "status": "completed"
    },
    "tags": []
   },
   "outputs": [],
   "source": [
    " "
   ]
  }
 ],
 "metadata": {
  "kernelspec": {
   "display_name": "Python 3",
   "language": "python",
   "name": "python3"
  },
  "language_info": {
   "codemirror_mode": {
    "name": "ipython",
    "version": 3
   },
   "file_extension": ".py",
   "mimetype": "text/x-python",
   "name": "python",
   "nbconvert_exporter": "python",
   "pygments_lexer": "ipython3",
   "version": "3.7.12"
  },
  "papermill": {
   "default_parameters": {},
   "duration": 21.756363,
   "end_time": "2022-09-14T08:33:20.980118",
   "environment_variables": {},
   "exception": null,
   "input_path": "__notebook__.ipynb",
   "output_path": "__notebook__.ipynb",
   "parameters": {},
   "start_time": "2022-09-14T08:32:59.223755",
   "version": "2.3.4"
  }
 },
 "nbformat": 4,
 "nbformat_minor": 5
}
